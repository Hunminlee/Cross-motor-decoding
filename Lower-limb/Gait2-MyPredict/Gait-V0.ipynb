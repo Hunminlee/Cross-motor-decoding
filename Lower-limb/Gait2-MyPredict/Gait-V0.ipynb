{
 "cells": [
  {
   "metadata": {
    "ExecuteTime": {
     "end_time": "2025-08-20T06:18:49.204425Z",
     "start_time": "2025-08-20T06:18:49.201554Z"
    }
   },
   "cell_type": "code",
   "source": "#Keys: <KeysViewHDF5 ['Day_1', 'Meta']>",
   "id": "130466ec097f8b99",
   "outputs": [],
   "execution_count": 54
  },
  {
   "metadata": {
    "ExecuteTime": {
     "end_time": "2025-08-20T06:18:49.211894Z",
     "start_time": "2025-08-20T06:18:49.208011Z"
    }
   },
   "cell_type": "code",
   "source": [
    "import h5py\n",
    "import pandas as pd\n",
    "\n",
    "base_path = 'D:/Data/Gait-EMG/Mypredict/'\n",
    "f = h5py.File(base_path+\"MP101.hdf5\", \"r\")\n",
    "\n",
    "print(\"Keys in file:\", list(f.keys()))\n",
    "\n",
    "meta_group = f[\"Meta\"]\n",
    "print(\"Keys inside Meta:\", list(meta_group.keys()))\n",
    "if \"subject\" in meta_group.keys():\n",
    "    data = meta_group[\"subject\"][:]  # this works only if it's a dataset\n",
    "    print(data.shape, data.dtype)"
   ],
   "id": "26c7c469ec44629f",
   "outputs": [
    {
     "name": "stdout",
     "output_type": "stream",
     "text": [
      "Keys in file: ['Day_1', 'Meta']\n",
      "Keys inside Meta: ['Age', 'Code', 'Height', 'No. Days', 'Sex', 'Weight']\n"
     ]
    }
   ],
   "execution_count": 55
  },
  {
   "metadata": {
    "ExecuteTime": {
     "end_time": "2025-08-20T06:18:49.226434Z",
     "start_time": "2025-08-20T06:18:49.222931Z"
    }
   },
   "cell_type": "code",
   "source": [
    "print(\"Keys in file:\", list(f.keys()))\n",
    "\n",
    "meta_group = f[\"Day_1\"]\n",
    "print(\"Keys inside Meta:\", list(meta_group.keys()))"
   ],
   "id": "58a1bcefc77912ae",
   "outputs": [
    {
     "name": "stdout",
     "output_type": "stream",
     "text": [
      "Keys in file: ['Day_1', 'Meta']\n",
      "Keys inside Meta: ['MVC', 'Trial_01', 'Trial_02', 'Trial_03', 'Trial_04', 'Trial_05', 'Trial_06', 'Trial_07', 'Trial_08', 'Trial_09', 'Trial_10', 'Trial_11', 'Trial_12', 'Trial_13', 'Trial_14', 'Trial_15', 'Trial_16', 'Trial_17', 'Trial_18', 'Trial_19', 'Trial_20', 'Trial_21', 'Trial_22', 'Trial_23', 'Trial_24', 'Trial_25', 'Trial_26', 'Trial_27', 'Trial_28', 'Trial_29', 'Trial_30', 'Trial_31', 'Trial_32', 'Trial_33', 'Trial_34', 'Trial_35', 'Trial_36']\n"
     ]
    }
   ],
   "execution_count": 56
  },
  {
   "metadata": {
    "ExecuteTime": {
     "end_time": "2025-08-20T06:18:49.241169Z",
     "start_time": "2025-08-20T06:18:49.237958Z"
    }
   },
   "cell_type": "code",
   "source": [
    "trial_01 = f[\"Day_1\"][\"Trial_01\"]\n",
    "\n",
    "print(\"Keys in Trial_01:\", list(trial_01.keys())) # Trial_01 안에 뭐가 들어있는지 확인\n",
    "data = trial_01[\"Acc_Left_Foot\"][:]   # numpy array 로 변환\n",
    "print(data.shape)"
   ],
   "id": "4f54f267981b31ca",
   "outputs": [
    {
     "name": "stdout",
     "output_type": "stream",
     "text": [
      "Keys in Trial_01: ['Acc_Left_Foot', 'Acc_Left_Shank', 'Acc_Left_Thigh', 'Acc_Pelvis', 'Acc_Right_Foot', 'Acc_Right_Shank', 'Acc_Right_Thigh', 'Acc_T8', 'Ang_L5S1', 'Ang_Left_Ankle', 'Ang_Left_Hip', 'Ang_Left_Knee', 'Ang_Right_Ankle', 'Ang_Right_Hip', 'Ang_Right_Knee', 'EMG_Left_BF', 'EMG_Left_GM', 'EMG_Left_Gmax', 'EMG_Left_Gmed', 'EMG_Left_RF', 'EMG_Left_ST', 'EMG_Left_TA', 'EMG_Left_VL', 'EMG_Right_BF', 'EMG_Right_GM', 'EMG_Right_Gmax', 'EMG_Right_Gmed', 'EMG_Right_RF', 'EMG_Right_ST', 'EMG_Right_TA', 'EMG_Right_VL', 'Gyr_Left_Foot', 'Gyr_Left_Shank', 'Gyr_Left_Thigh', 'Gyr_Pelvis', 'Gyr_Right_Foot', 'Gyr_Right_Shank', 'Gyr_Right_Thigh', 'Gyr_T8', 'Label', 'Markers', 'Time']\n",
      "(73400, 3)\n"
     ]
    }
   ],
   "execution_count": 57
  },
  {
   "metadata": {
    "ExecuteTime": {
     "end_time": "2025-08-20T06:18:49.305911Z",
     "start_time": "2025-08-20T06:18:49.255390Z"
    }
   },
   "cell_type": "code",
   "source": [
    "import matplotlib.pyplot as plt\n",
    "plt.plot(trial_01['Label'][:])"
   ],
   "id": "1889fd9c7a1cac65",
   "outputs": [
    {
     "data": {
      "text/plain": [
       "[<matplotlib.lines.Line2D at 0x24d4bbbc680>]"
      ]
     },
     "execution_count": 58,
     "metadata": {},
     "output_type": "execute_result"
    },
    {
     "data": {
      "text/plain": [
       "<Figure size 640x480 with 1 Axes>"
      ],
      "image/png": "[encoded data removed]"
     },
     "metadata": {},
     "output_type": "display_data"
    }
   ],
   "execution_count": 58
  },
  {
   "metadata": {
    "ExecuteTime": {
     "end_time": "2025-08-20T06:18:49.324674Z",
     "start_time": "2025-08-20T06:18:49.319796Z"
    }
   },
   "cell_type": "code",
   "source": "pd.Series(trial_01['Label'][:]).value_counts()",
   "id": "966cacec9c2434db",
   "outputs": [
    {
     "data": {
      "text/plain": [
       "2.0    19000\n",
       "6.0     6100\n",
       "8.4     5200\n",
       "8.1     5000\n",
       "7.0     4500\n",
       "3.0     4100\n",
       "8.8     4100\n",
       "8.7     4000\n",
       "8.6     3900\n",
       "5.0     3300\n",
       "1.0     3000\n",
       "8.5     3000\n",
       "8.2     2800\n",
       "0.0     2700\n",
       "8.3     2700\n",
       "Name: count, dtype: int64"
      ]
     },
     "execution_count": 59,
     "metadata": {},
     "output_type": "execute_result"
    }
   ],
   "execution_count": 59
  },
  {
   "metadata": {
    "ExecuteTime": {
     "end_time": "2025-08-20T06:18:49.352642Z",
     "start_time": "2025-08-20T06:18:49.349772Z"
    }
   },
   "cell_type": "code",
   "source": "",
   "id": "a2ff6386e1ed252d",
   "outputs": [],
   "execution_count": 60
  },
  {
   "metadata": {
    "ExecuteTime": {
     "end_time": "2025-08-20T06:20:26.339850Z",
     "start_time": "2025-08-20T06:20:26.301119Z"
    }
   },
   "cell_type": "code",
   "source": [
    "import h5py\n",
    "import numpy as np\n",
    "import pandas as pd\n",
    "from sklearn.utils import resample\n",
    "\n",
    "def label_extraction(data):\n",
    "    # --- (1) Label 추출 ---\n",
    "    y = data[\"Label\"][:].astype(float).ravel()\n",
    "    valid_idx = np.where((y != -2) & (y != -1))[0] # 불필요한 레이블(-2, -1) 제거\n",
    "    y = y[valid_idx]\n",
    "    return y, valid_idx\n",
    "\n",
    "def stack_signals(trial, keys, valid_idx):\n",
    "    # --- (2) Modality 별 데이터 추출 ---\n",
    "    \"\"\"여러 channel(dataset)을 axis=1 로 합치기\"\"\"\n",
    "    data_list = []\n",
    "    for k in keys:\n",
    "        d = trial[k][:]\n",
    "        if d.ndim == 1:\n",
    "            d = d[:, np.newaxis]  # (samples,) -> (samples, 1)\n",
    "        data_list.append(d)\n",
    "    data = np.hstack(data_list)   # (samples, channels)\n",
    "    return data[valid_idx]\n",
    "\n",
    "\n",
    "def Downsample_to_balance_class(y, ):\n",
    "    # --- (3) Downsampling to balance classes ---\n",
    "    df = pd.DataFrame({\"y\": y})\n",
    "\n",
    "    balanced_idx = []\n",
    "    for lbl in np.unique(y):\n",
    "        lbl_idx = np.where(y == lbl)[0]\n",
    "        min_n = df[\"y\"].value_counts().min()  # 가장 작은 클래스 크기\n",
    "        sampled_idx = resample(lbl_idx, n_samples=min_n, random_state=42, replace=False)\n",
    "        balanced_idx.extend(sampled_idx)\n",
    "\n",
    "    balanced_idx = np.array(balanced_idx)\n",
    "    return balanced_idx\n",
    "\n",
    "def random_downsample(X, y=None, fraction=0.5, random_state=42):\n",
    "    # --- (4) when the data is too much, we randomly remove samples by fraction % ---\n",
    "    #fraction: 남길 비율\n",
    "\n",
    "    np.random.seed(random_state)\n",
    "    n_samples = X.shape[0]\n",
    "    n_keep = int(n_samples * fraction)\n",
    "    idx_keep = np.random.choice(n_samples, size=n_keep, replace=False)\n",
    "\n",
    "    X_down = X[idx_keep]\n",
    "\n",
    "    if y is not None:\n",
    "        y_down = y[idx_keep]\n",
    "        return X_down, y_down\n",
    "    else:\n",
    "        return X_down\n",
    "\n",
    "\n",
    "base_path = 'D:/Data/Gait-EMG/Mypredict/'\n",
    "f = h5py.File(base_path+\"MP101.hdf5\", \"r\")\n",
    "\n",
    "trial = f[\"Day_1\"][\"Trial_01\"]\n",
    "\n",
    "y, valid_idx = label_extraction(trial)\n",
    "#acc_keys, gyr_keys = [k for k in trial.keys() if k.startswith(\"Acc_\")], [k for k in trial.keys() if k.startswith(\"Gyr_\")]  # 가속도, gyro\n",
    "#X_acc, X_gyr = stack_signals(acc_keys), stack_signals(gyr_keys)\n",
    "emg_keys = [k for k in trial.keys() if k.startswith(\"EMG_\")]\n",
    "X_emg = stack_signals(trial, emg_keys, valid_idx)\n",
    "print(\"EMG shape:\", X_emg.shape, \"y shape:\", y.shape)\n",
    "\n",
    "balanced_idx = Downsample_to_balance_class(y)\n",
    "# X_acc_bal, X_gyr_bal = X_acc[balanced_idx], X_gyr[balanced_idx]\n",
    "X_emg_bal = X_emg[balanced_idx]\n",
    "y_bal = y[balanced_idx]\n",
    "\n",
    "print(\"EMG:\", X_emg_bal.shape, \"y:\", y_bal.shape)\n",
    "X_emg_down, y_down = random_downsample(X_emg_bal, y_bal, fraction=0.5)\n",
    "print(\"EMG:\", X_emg_down.shape, \"y:\", y_down.shape)\n",
    "#pd.Series(y_down).value_counts()"
   ],
   "id": "3de33e78629d1f64",
   "outputs": [
    {
     "name": "stdout",
     "output_type": "stream",
     "text": [
      "EMG shape: (73400, 16) y shape: (73400,)\n",
      "EMG: (40500, 16) y: (40500,)\n",
      "EMG: (20250, 16) y: (20250,)\n"
     ]
    }
   ],
   "execution_count": 2
  },
  {
   "metadata": {
    "ExecuteTime": {
     "end_time": "2025-08-20T06:18:49.502136Z",
     "start_time": "2025-08-20T06:18:49.500114Z"
    }
   },
   "cell_type": "code",
   "source": "",
   "id": "bdfeacadb134be6a",
   "outputs": [],
   "execution_count": null
  }
 ],
 "metadata": {
  "kernelspec": {
   "display_name": "Python 3",
   "language": "python",
   "name": "python3"
  },
  "language_info": {
   "codemirror_mode": {
    "name": "ipython",
    "version": 2
   },
   "file_extension": ".py",
   "mimetype": "text/x-python",
   "name": "python",
   "nbconvert_exporter": "python",
   "pygments_lexer": "ipython2",
   "version": "2.7.6"
  }
 },
 "nbformat": 4,
 "nbformat_minor": 5
}
