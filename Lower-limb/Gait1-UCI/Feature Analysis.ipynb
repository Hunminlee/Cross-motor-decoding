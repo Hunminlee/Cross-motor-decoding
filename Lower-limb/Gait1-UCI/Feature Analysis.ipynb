{
 "cells": [
  {
   "cell_type": "code",
   "id": "initial_id",
   "metadata": {
    "collapsed": true,
    "ExecuteTime": {
     "end_time": "2025-08-20T03:53:00.823017Z",
     "start_time": "2025-08-20T03:52:58.593696Z"
    }
   },
   "source": [
    "import numpy as np\n",
    "import pandas as pd\n",
    "import sys, os\n",
    "from collections import defaultdict\n",
    "from sklearn.model_selection import train_test_split\n",
    "import matplotlib.pyplot as plt\n",
    "\n",
    "import warnings\n",
    "warnings.filterwarnings('ignore')\n",
    "\n",
    "sys.path.append('../Shared')\n",
    "import processing, Model, Visualization\n",
    "\n",
    "\n",
    "def call_data(base_path, sub_lst, sub_idx):\n",
    "    data = pd.read_csv(base_path+sub_lst[sub_idx])\n",
    "    return data\n",
    "\n",
    "def data_setup(lst_normal, path_normal, window_size, step_size):\n",
    "    subjects_data = defaultdict(list)\n",
    "    subjects_label = defaultdict(list)\n",
    "\n",
    "    for s_idx, filename in enumerate(lst_normal):\n",
    "        name = filename.lower()\n",
    "        subject_id = name.split(\"n\")[0]\n",
    "        data = call_data(path_normal, lst_normal, s_idx).to_numpy()  # (num_samples, num_channels)\n",
    "\n",
    "        windows = processing.sliding_window(data, window_size, step_size)  # (num_windows, win_len, ch)\n",
    "\n",
    "        if \"standing\" in name: label = 0\n",
    "        elif \"gait\" in name: label = 1\n",
    "        elif \"sitting\" in name: label = 2\n",
    "        else: label = -1\n",
    "\n",
    "        labels = np.full(len(windows), label)\n",
    "\n",
    "        subjects_data[subject_id].append(windows)\n",
    "        subjects_label[subject_id].append(labels)\n",
    "\n",
    "    return subjects_data, subjects_label\n",
    "\n",
    "\n",
    "\n",
    "def get_X_y(X, y):\n",
    "    all_X, all_y = [], []\n",
    "\n",
    "    #for subject_id in subjects_data.keys():\n",
    "    data_list = X\n",
    "    label_list = y\n",
    "\n",
    "    for data, labels in zip(data_list, label_list):\n",
    "        for w, label in zip(data, labels):  # w: (win_len, ch)\n",
    "            feat = processing.extract_features(w)  # (num_channels*5,)\n",
    "            all_X.append(feat)\n",
    "            all_y.append(label)\n",
    "\n",
    "    all_X, all_y = np.array(all_X), np.array(all_y)   # (N, num_channels*5)\n",
    "\n",
    "    return all_X, all_y"
   ],
   "outputs": [],
   "execution_count": 1
  },
  {
   "metadata": {},
   "cell_type": "code",
   "outputs": [],
   "execution_count": null,
   "source": [
    "import importlib\n",
    "importlib.reload(processing)"
   ],
   "id": "ad78769eae2b9727"
  },
  {
   "metadata": {
    "jupyter": {
     "is_executing": true
    },
    "ExecuteTime": {
     "start_time": "2025-08-20T04:01:29.543026Z"
    }
   },
   "cell_type": "code",
   "source": [
    "path_abnormal = \"../../../Data/Gait1/Abnormal/\"\n",
    "path_normal = \"../../../Data/Gait1/normal/\"\n",
    "\n",
    "lst_abnormal = os.listdir(path_abnormal)\n",
    "lst_normal = os.listdir(path_normal)\n",
    "\n",
    "window_size, step_size = 200, 10\n",
    "num_channels, num_features = 5, 30  # we extracted 5 features per channel\n",
    "\n",
    "subjects_data, subjects_label = data_setup(lst_normal, path_normal, window_size, step_size)\n",
    "\n",
    "Features = ['mav', 'var', 'zc', 'iemg', 'wl', 'wamp', 'mavs', 'rms', 'ssc', 'msq', 'v3', 'ld', 'dabs', 'mfl', 'mpr', 'mnf', 'psr', 'arc1', 'arc2', 'arc3', 'arc4', 'cc1', 'cc2', 'cc3', 'cca', 'dwtc1', 'dwtc2', 'dwtpc1', 'dwtpc2', 'dwtpc3']\n",
    "\n",
    "All_Acc = []\n",
    "for subject_id in subjects_data.keys():\n",
    "    print(f\"Sub {subject_id} Start\")\n",
    "    X, y = get_X_y(X=subjects_data[subject_id], y=subjects_label[subject_id])\n",
    "    X = X.reshape(-1, num_channels, num_features)\n",
    "\n",
    "    Sub_acc = []\n",
    "    for feature_idx in range(num_features):\n",
    "        X_feature = X[:, :, feature_idx]   # shape: (samples, num_channels, 1, 1)\n",
    "        X_feature = X_feature.reshape(-1, num_channels, 1)\n",
    "\n",
    "        X_train, X_test, y_train, y_test = train_test_split(X_feature, y, test_size=0.2, random_state=42)\n",
    "\n",
    "        model = Model.build_model_1D(input_shape=X_feature.shape[1:], num_classes=len(np.unique(y)))\n",
    "\n",
    "        history = model.fit(X_train, y_train, validation_data=(X_test, y_test), epochs=50, batch_size=512, verbose=0)\n",
    "\n",
    "        print(f\"\\tSub ID {subject_id}, Feature {feature_idx} ({Features[feature_idx]}): \"\n",
    "            f\"val acc => {np.max(history.history['val_accuracy'])*100:.2f}%\")\n",
    "        Sub_acc.append(np.max(history.history['val_accuracy'])*100)\n",
    "    All_Acc.append(Sub_acc)\n",
    "    print(\"\\n\")"
   ],
   "id": "ea177c5303371891",
   "outputs": [
    {
     "name": "stdout",
     "output_type": "stream",
     "text": [
      "Sub 10 Start\n",
      "\tSub ID 10, Feature 0 (mav): val acc => 80.67%\n",
      "\tSub ID 10, Feature 1 (var): val acc => 60.29%\n",
      "\tSub ID 10, Feature 2 (zc): val acc => 82.21%\n",
      "\tSub ID 10, Feature 3 (iemg): val acc => 90.13%\n",
      "\tSub ID 10, Feature 4 (wl): val acc => 98.04%\n",
      "\tSub ID 10, Feature 5 (wamp): val acc => 77.80%\n",
      "\tSub ID 10, Feature 6 (mavs): val acc => 61.13%\n",
      "\tSub ID 10, Feature 7 (rms): val acc => 64.78%\n",
      "\tSub ID 10, Feature 8 (ssc): val acc => 75.35%\n",
      "\tSub ID 10, Feature 9 (msq): val acc => 60.29%\n",
      "\tSub ID 10, Feature 10 (v3): val acc => 60.36%\n",
      "\tSub ID 10, Feature 11 (ld): val acc => 66.74%\n",
      "\tSub ID 10, Feature 12 (dabs): val acc => 92.51%\n",
      "\tSub ID 10, Feature 13 (mfl): val acc => 53.50%\n"
     ]
    }
   ],
   "execution_count": null
  },
  {
   "metadata": {},
   "cell_type": "code",
   "outputs": [],
   "execution_count": null,
   "source": "pd.DataFrame(All_Acc)",
   "id": "81f5f630d72107b7"
  },
  {
   "metadata": {},
   "cell_type": "code",
   "outputs": [],
   "execution_count": null,
   "source": "",
   "id": "32df07195b054e9a"
  }
 ],
 "metadata": {
  "kernelspec": {
   "display_name": "Python 3",
   "language": "python",
   "name": "python3"
  },
  "language_info": {
   "codemirror_mode": {
    "name": "ipython",
    "version": 2
   },
   "file_extension": ".py",
   "mimetype": "text/x-python",
   "name": "python",
   "nbconvert_exporter": "python",
   "pygments_lexer": "ipython2",
   "version": "2.7.6"
  }
 },
 "nbformat": 4,
 "nbformat_minor": 5
}
