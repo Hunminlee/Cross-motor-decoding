{
 "cells": [
  {
   "metadata": {},
   "cell_type": "markdown",
   "source": [
    "- 3 different exercises: sitting, standing and walking in the muscles: biceps femoris, vastus medialis, rectus femoris and semitendinosus addition to goniometry in the exercises.\n",
    "\n",
    "Each data file contains 5 columns, organized as follows.\n",
    "Segment\tLower Limb\n",
    "Channel\tCh1\tCh2\tCh3\tCh4\tCh5\n",
    "Muscle\tRF\tBF\tVM\tST\tFX\n",
    "Column\t0\t1\t2\t3\t4\n",
    "\n",
    "\n",
    "- 2.1. Protocol:\n",
    "22 male subjects , 11 with different knee abnormalities previously diagnosed by a professional. They undergo three movements to analyze the behavior associated with the knee muscle , gait , leg extension from a sitting position , and flexion of the leg up. The acquisition process was conducted with 4 electrodes ( Vastus Medialis , semitendinosus , biceps femoris and rectus femoris ) and the goniometer in the knee .\n",
    "\n",
    "- 2.2.\tInstrumentation\n",
    "Datalog equipment was used MWX8 by Biometrics of 8 digital channels and 4 analog channels , of which 4 for sampling were used SEMG and 1 for goniometry, these data were acquired directly to the computer MWX8 internal storage with microSD card and transmitted in Real-time Datalog software through bluetooth adapter , 14-bit resolution and sampling frequency of 1000Hz .\n",
    "\n",
    "- 2.3.\tData configuration:\n",
    "The total number of electrodes is 4, corresponding to the time series one for each channel (1 to 4). Each series contains ~ 5 shares or motion repetitions for each subject.\n",
    "\n",
    "## No sessions exist"
   ],
   "id": "e128dbbec5188404"
  },
  {
   "cell_type": "code",
   "id": "initial_id",
   "metadata": {
    "collapsed": true,
    "ExecuteTime": {
     "end_time": "2025-08-18T20:46:32.022493Z",
     "start_time": "2025-08-18T20:46:32.015966Z"
    }
   },
   "source": [
    "import numpy as np\n",
    "import pandas as pd\n",
    "import sys, os\n",
    "from collections import defaultdict\n",
    "\n",
    "def call_data(base_path, sub_lst, sub_idx):\n",
    "    data = pd.read_csv(base_path+sub_lst[sub_idx])\n",
    "    return data\n",
    "\n",
    "\n",
    "path_abnormal = \"../../../Data/Gait1/Abnormal/\"\n",
    "path_normal = \"../../../Data/Gait1/normal/\"\n",
    "\n",
    "lst_abnormal = os.listdir(path_abnormal)\n",
    "lst_normal = os.listdir(path_normal)"
   ],
   "outputs": [],
   "execution_count": 2
  },
  {
   "metadata": {},
   "cell_type": "markdown",
   "source": [
    "# Intra-subject\n",
    "\n",
    "### Obj. 1\n",
    "1. Subject 별로 train-test split 써서 학습 / 테스트\n",
    "2. feature extraction using multiple features / windows\n",
    "- use normal only\n",
    "\n",
    "### Obj. 2\n",
    "- Cross-subject 시에 사용 가능 -> few-shot adaptation\n",
    "\n",
    "### Obj. 3\n",
    "- Federated Learning with multiple subjects"
   ],
   "id": "b164b6099b2d4399"
  },
  {
   "metadata": {
    "ExecuteTime": {
     "end_time": "2025-08-18T20:56:42.914290Z",
     "start_time": "2025-08-18T20:56:37.031942Z"
    }
   },
   "cell_type": "code",
   "source": [
    "import numpy as np\n",
    "from collections import defaultdict\n",
    "\n",
    "def sliding_window(data, window_size, step_size):\n",
    "    \"\"\" 슬라이딩 윈도우 분할 \"\"\"\n",
    "    num_samples, num_channels = data.shape\n",
    "    windows = []\n",
    "    for start in range(0, num_samples - window_size + 1, step_size):\n",
    "        end = start + window_size\n",
    "        windows.append(data[start:end, :])  # (window_size, num_channels)\n",
    "    return np.array(windows)  # (num_windows, window_size, num_channels)\n",
    "\n",
    "# --- Feature extraction ---\n",
    "def extract_features(window):\n",
    "    \"\"\" 한 윈도우 (window_size, num_channels) -> feature 벡터 \"\"\"\n",
    "    feats = []\n",
    "    for ch in range(window.shape[1]):\n",
    "        x = window[:, ch]\n",
    "\n",
    "        # Time-domain features\n",
    "        mav = np.mean(np.abs(x))  # Mean Absolute Value\n",
    "        rms = np.sqrt(np.mean(x**2))  # RMS\n",
    "        var = np.var(x)  # Variance\n",
    "        wl = np.sum(np.abs(np.diff(x)))  # Waveform Length\n",
    "\n",
    "        # Simple freq-domain (using FFT)\n",
    "        fft_vals = np.fft.rfft(x)\n",
    "        fft_freq = np.fft.rfftfreq(len(x), d=1.0)  # 샘플링 주파수에 맞춰 수정 가능\n",
    "        psd = np.abs(fft_vals)**2\n",
    "        mnf = np.sum(fft_freq * psd) / np.sum(psd)  # Mean Frequency\n",
    "\n",
    "        # Feature 벡터에 추가\n",
    "        feats.extend([mav, rms, var, wl, mnf])\n",
    "    return np.array(feats)  # (num_features,)\n",
    "\n",
    "# --- Main loop ---\n",
    "subjects_data = defaultdict(list)\n",
    "subjects_label = defaultdict(list)\n",
    "\n",
    "window_size = 200   # 샘플 단위 (예: 200 samples ≈ 200ms if fs=1000Hz)\n",
    "step_size = 10     # 50% overlap\n",
    "\n",
    "for s_idx, filename in enumerate(lst_normal):\n",
    "    name = filename.lower()\n",
    "    subject_id = name.split(\"n\")[0]\n",
    "    data = call_data(path_normal, lst_normal, s_idx).to_numpy()  # (num_samples, num_channels)\n",
    "\n",
    "    # 슬라이딩 윈도우 적용: (num_windows, window_size, num_channels)\n",
    "    windows = sliding_window(data, window_size, step_size)\n",
    "\n",
    "    # CNN 입력 형태 맞추기: (num_windows, 1, window_size, num_channels)\n",
    "    windows = np.expand_dims(windows, axis=1)\n",
    "\n",
    "    # 레이블 지정\n",
    "    if \"standing\" in name:\n",
    "        label = 0\n",
    "    elif \"gait\" in name:\n",
    "        label = 1\n",
    "    elif \"sitting\" in name:\n",
    "        label = 2\n",
    "    else:\n",
    "        label = -1\n",
    "\n",
    "    labels = np.full(len(windows), label)  # 윈도우 개수만큼 같은 라벨\n",
    "\n",
    "    subjects_data[subject_id].append(windows)  # (num_windows, 1, window_size, num_channels)\n",
    "    subjects_label[subject_id].append(labels)   # (num_windows,)\n"
   ],
   "id": "4456a04ff757eea3",
   "outputs": [],
   "execution_count": 12
  },
  {
   "metadata": {
    "ExecuteTime": {
     "end_time": "2025-08-18T20:56:48.796248Z",
     "start_time": "2025-08-18T20:56:48.789952Z"
    }
   },
   "cell_type": "code",
   "source": "subjects_data['1'][0].shape, subjects_data['1'][1].shape, subjects_data['1'][2].shape",
   "id": "3197a3cd8267e271",
   "outputs": [
    {
     "data": {
      "text/plain": [
       "((549, 25), (1511, 25), (1433, 25))"
      ]
     },
     "execution_count": 13,
     "metadata": {},
     "output_type": "execute_result"
    }
   ],
   "execution_count": 13
  },
  {
   "metadata": {
    "ExecuteTime": {
     "end_time": "2025-08-18T21:06:44.933366Z",
     "start_time": "2025-08-18T21:06:33.254656Z"
    }
   },
   "cell_type": "code",
   "source": [
    "import numpy as np\n",
    "from collections import defaultdict\n",
    "from sklearn.model_selection import train_test_split\n",
    "from tensorflow.keras import layers, models\n",
    "import matplotlib.pyplot as plt\n",
    "\n",
    "# ---------- Sliding Window ----------\n",
    "def sliding_window(data, window_size=200, step=100):\n",
    "    \"\"\"data shape: (samples, channels)\"\"\"\n",
    "    windows = []\n",
    "    for start in range(0, data.shape[0] - window_size + 1, step):\n",
    "        end = start + window_size\n",
    "        windows.append(data[start:end, :])\n",
    "    return np.array(windows)  # (num_windows, window_size, channels)\n",
    "\n",
    "# ---------- Feature Extraction ----------\n",
    "def extract_features(window):\n",
    "    \"\"\"window shape: (window_size, channels)\"\"\"\n",
    "    features = []\n",
    "    for ch in range(window.shape[1]):\n",
    "        x = window[:, ch]\n",
    "\n",
    "        rms = np.sqrt(np.mean(x ** 2))       # Root Mean Square\n",
    "        mav = np.mean(np.abs(x))             # Mean Absolute Value\n",
    "        var = np.var(x)                      # Variance\n",
    "        wl = np.sum(np.abs(np.diff(x)))      # Waveform Length\n",
    "        zc = np.sum(np.diff(np.sign(x)) != 0)  # Zero Crossing count\n",
    "\n",
    "        features.append([rms, mav, var, wl, zc])\n",
    "\n",
    "    return np.array(features)  # shape: (channels, num_features)\n",
    "\n",
    "# ---------- Dataset Construction ----------\n",
    "all_X, all_y = [], []\n",
    "\n",
    "for subject_id in subjects_data.keys():\n",
    "    data_list = subjects_data[subject_id]\n",
    "    label_list = subjects_label[subject_id]\n",
    "\n",
    "    for data, labels in zip(data_list, label_list):   # labels: (num_windows,)\n",
    "        windows = sliding_window(data, window_size=200, step=100)  # (num_windows, win_len, ch)\n",
    "\n",
    "        for w, label in zip(windows, labels):\n",
    "            feat = extract_features(w)   # (channels, num_features)\n",
    "            all_X.append(feat)\n",
    "            all_y.append(label)\n",
    "\n",
    "all_X = np.array(all_X)   # (N, channels, features)\n",
    "all_y = np.array(all_y)\n",
    "\n",
    "print(\"Feature shape:\", all_X.shape)  # e.g., (N, 5, 5) → N samples, 5 channels, 5 features\n",
    "\n",
    "# ---------- Train/Test Split ----------\n",
    "X_train, X_test, y_train, y_test = train_test_split(all_X, all_y, test_size=0.2, random_state=42)\n",
    "\n",
    "# reshape for CNN input: (N, channels, features, 1)\n",
    "X_train = X_train[..., np.newaxis]\n",
    "X_test = X_test[..., np.newaxis]\n",
    "\n",
    "# ---------- Simple CNN Model ----------\n",
    "model = models.Sequential([\n",
    "    layers.Conv2D(16, (3, 3), activation=\"relu\", input_shape=(all_X.shape[1], all_X.shape[2], 1), padding=\"same\"),\n",
    "    layers.MaxPooling2D((2, 2)),\n",
    "    layers.Conv2D(32, (3, 3), activation=\"relu\", padding=\"same\"),\n",
    "    layers.GlobalAveragePooling2D(),\n",
    "    layers.Dense(64, activation=\"relu\"),\n",
    "    layers.Dense(len(np.unique(all_y)), activation=\"softmax\")\n",
    "])\n",
    "\n",
    "model.compile(optimizer=\"adam\", loss=\"sparse_categorical_crossentropy\", metrics=[\"accuracy\"])\n",
    "\n",
    "# ---------- Training ----------\n",
    "history = model.fit(X_train, y_train, validation_data=(X_test, y_test), epochs=200, batch_size=64, verbose=0)\n",
    "\n",
    "plt.plot(history.history['val_accuracy'])\n",
    "plt.plot(history.history['accuracy'])\n",
    "plt.show()"
   ],
   "id": "7edb41754880e276",
   "outputs": [
    {
     "name": "stdout",
     "output_type": "stream",
     "text": [
      "Feature shape: (421, 25, 5)\n"
     ]
    },
    {
     "data": {
      "text/plain": [
       "<Figure size 640x480 with 1 Axes>"
      ],
      "image/png": "[encoded data removed]"
     },
     "metadata": {},
     "output_type": "display_data"
    }
   ],
   "execution_count": 26
  },
  {
   "metadata": {},
   "cell_type": "code",
   "outputs": [],
   "execution_count": null,
   "source": "",
   "id": "4254b4fd531894d5"
  },
  {
   "metadata": {},
   "cell_type": "code",
   "outputs": [],
   "execution_count": null,
   "source": "",
   "id": "414bb7b85024e27d"
  },
  {
   "metadata": {},
   "cell_type": "code",
   "outputs": [],
   "execution_count": null,
   "source": "",
   "id": "4d592f3a864509"
  },
  {
   "metadata": {},
   "cell_type": "code",
   "outputs": [],
   "execution_count": null,
   "source": "",
   "id": "968513d71f60c327"
  }
 ],
 "metadata": {
  "kernelspec": {
   "display_name": "Python 3",
   "language": "python",
   "name": "python3"
  },
  "language_info": {
   "codemirror_mode": {
    "name": "ipython",
    "version": 2
   },
   "file_extension": ".py",
   "mimetype": "text/x-python",
   "name": "python",
   "nbconvert_exporter": "python",
   "pygments_lexer": "ipython2",
   "version": "2.7.6"
  }
 },
 "nbformat": 4,
 "nbformat_minor": 5
}
