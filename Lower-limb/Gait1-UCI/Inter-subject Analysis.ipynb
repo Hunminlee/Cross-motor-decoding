{
 "cells": [
  {
   "cell_type": "code",
   "id": "initial_id",
   "metadata": {
    "collapsed": true,
    "ExecuteTime": {
     "end_time": "2025-08-19T22:17:54.667392Z",
     "start_time": "2025-08-19T22:17:46.995441Z"
    }
   },
   "source": [
    "import numpy as np\n",
    "import pandas as pd\n",
    "import sys, os\n",
    "from collections import defaultdict\n",
    "from sklearn.model_selection import train_test_split\n",
    "import matplotlib.pyplot as plt\n",
    "\n",
    "import warnings\n",
    "warnings.filterwarnings('ignore')\n",
    "\n",
    "sys.path.append('../Shared')\n",
    "import processing, Model, Visualization\n",
    "\n",
    "\n",
    "def call_data(base_path, sub_lst, sub_idx):\n",
    "    data = pd.read_csv(base_path+sub_lst[sub_idx])\n",
    "    return data\n",
    "\n",
    "def data_setup(lst_normal, path_normal, window_size, step_size):\n",
    "    subjects_data = defaultdict(list)\n",
    "    subjects_label = defaultdict(list)\n",
    "\n",
    "    for s_idx, filename in enumerate(lst_normal):\n",
    "        name = filename.lower()\n",
    "        subject_id = name.split(\"n\")[0]\n",
    "        data = call_data(path_normal, lst_normal, s_idx).to_numpy()  # (num_samples, num_channels)\n",
    "\n",
    "        windows = processing.sliding_window(data, window_size, step_size)  # (num_windows, win_len, ch)\n",
    "\n",
    "        if \"standing\" in name: label = 0\n",
    "        elif \"gait\" in name: label = 1\n",
    "        elif \"sitting\" in name: label = 2\n",
    "        else: label = -1\n",
    "\n",
    "        labels = np.full(len(windows), label)\n",
    "\n",
    "        subjects_data[subject_id].append(windows)\n",
    "        subjects_label[subject_id].append(labels)\n",
    "\n",
    "    return subjects_data, subjects_label\n",
    "\n",
    "\n",
    "\n",
    "def get_X_y(X, y):\n",
    "    all_X, all_y = [], []\n",
    "\n",
    "    #for subject_id in subjects_data.keys():\n",
    "    data_list = X\n",
    "    label_list = y\n",
    "\n",
    "    for data, labels in zip(data_list, label_list):\n",
    "        for w, label in zip(data, labels):  # w: (win_len, ch)\n",
    "            feat = processing.extract_features(w)  # (num_channels*5,)\n",
    "            all_X.append(feat)\n",
    "            all_y.append(label)\n",
    "\n",
    "    all_X, all_y = np.array(all_X), np.array(all_y)   # (N, num_channels*5)\n",
    "\n",
    "    return all_X, all_y"
   ],
   "outputs": [],
   "execution_count": 1
  },
  {
   "metadata": {},
   "cell_type": "markdown",
   "source": "# Baseline performance - without adaptation",
   "id": "a50afc4da454af78"
  },
  {
   "metadata": {},
   "cell_type": "code",
   "source": [
    "path_abnormal = \"../../../Data/Gait1/Abnormal/\"\n",
    "path_normal = \"../../../Data/Gait1/normal/\"\n",
    "\n",
    "lst_abnormal = os.listdir(path_abnormal)\n",
    "lst_normal = os.listdir(path_normal)\n",
    "\n",
    "window_size, step_size = 200, 10\n",
    "num_channels, num_features = 5, 5  # we extracted 5 features per channel\n",
    "\n",
    "subjects_data, subjects_label = data_setup(lst_normal, path_normal, window_size, step_size)\n",
    "ACC_all = []\n",
    "\n",
    "for subject_id in subjects_data.keys():\n",
    "    print(f\"Sub ID {subject_id}\")\n",
    "    X, y = get_X_y(X=subjects_data[subject_id], y=subjects_label[subject_id])\n",
    "    X = X.reshape(-1, num_channels, num_features, 1)\n",
    "\n",
    "    model = Model.build_model(input_shape=X.shape[1:], num_classes=len(np.unique(y)))\n",
    "    history = model.fit(X, y, epochs=50, batch_size=64, verbose=0)\n",
    "    Sub_acc = []\n",
    "\n",
    "    for subject_id_target in subjects_data.keys():\n",
    "        if subject_id == subject_id_target:\n",
    "            pass\n",
    "        else:\n",
    "            X_target, y_target = get_X_y(X=subjects_data[subject_id_target], y=subjects_label[subject_id_target])\n",
    "            X_target = X_target.reshape(-1, num_channels, num_features, 1)\n",
    "            loss, acc = model.evaluate(X_target, y_target, verbose=0)\n",
    "\n",
    "            #Visualization.learning_plot(history)\n",
    "            print(f\"\\t Target sub {subject_id_target} acc => {acc*100:.2f}%\")\n",
    "            Sub_acc.append(acc)\n",
    "    ACC_all.append(Sub_acc)\n",
    "    print(\"\\n\")"
   ],
   "id": "53921e8b06ff493",
   "outputs": [],
   "execution_count": null
  },
  {
   "metadata": {
    "ExecuteTime": {
     "end_time": "2025-08-19T20:39:06.340113Z",
     "start_time": "2025-08-19T20:39:06.335386Z"
    }
   },
   "cell_type": "code",
   "source": "#pd.DataFrame(np.array(ACC_all).T, columns=[\"S10\", \"S11\", \"S1\", \"S2\",\"S3\",\"S4\",\"S5\",\"S6\",\"S7\",\"S8\",\"S9\"]).to_csv(\"./Baseline_inter_subject.csv\", index=False)",
   "id": "791c21ff841ac6ea",
   "outputs": [],
   "execution_count": 13
  },
  {
   "metadata": {},
   "cell_type": "markdown",
   "source": "# Generalization by adding more subjects",
   "id": "cc3cc31d59651967"
  },
  {
   "metadata": {
    "jupyter": {
     "is_executing": true
    },
    "ExecuteTime": {
     "start_time": "2025-08-19T22:17:59.980701Z"
    }
   },
   "cell_type": "code",
   "source": [
    "path_abnormal = \"../../../Data/Gait1/Abnormal/\"\n",
    "path_normal = \"../../../Data/Gait1/normal/\"\n",
    "\n",
    "lst_abnormal = os.listdir(path_abnormal)\n",
    "lst_normal = os.listdir(path_normal)\n",
    "\n",
    "window_size, step_size = 200, 10\n",
    "num_channels, num_features = 5, 5  # we extracted 5 features per channel\n",
    "\n",
    "subjects_data, subjects_label = data_setup(lst_normal, path_normal, window_size, step_size)\n",
    "ACC_all = []\n",
    "\n",
    "for subject_id in subjects_data.keys():\n",
    "    print(f\"Sub ID {subject_id}\")\n",
    "    X_target, y_target = get_X_y(X=subjects_data[subject_id], y=subjects_label[subject_id])\n",
    "    X_target = X_target.reshape(-1, num_channels, num_features, 1)\n",
    "\n",
    "    Sub_acc = []\n",
    "    X_list, y_list = [], []\n",
    "    for idx, subject_id_target in enumerate(subjects_data.keys()):\n",
    "        if subject_id == subject_id_target:\n",
    "            pass\n",
    "        else:\n",
    "            X_tmp, y_tmp = get_X_y(X=subjects_data[subject_id_target], y=subjects_label[subject_id_target])\n",
    "            X_tmp = X_tmp.reshape(-1, num_channels, num_features, 1)\n",
    "\n",
    "            X_list.append(X_tmp)\n",
    "            y_list.append(y_tmp)\n",
    "\n",
    "            X = np.concatenate(X_list, axis=0)\n",
    "            y = np.concatenate(y_list, axis=0)\n",
    "\n",
    "            print(f\"\\t {X.shape}, {y.shape}\")\n",
    "            model = Model.build_model(input_shape=X.shape[1:], num_classes=len(np.unique(y)))\n",
    "            #history = model.fit(X, y, validation_data=(X_target, y_target), epochs=50, batch_size=64, verbose=0)\n",
    "            history = model.fit(X, y, epochs=50, batch_size=256, verbose=0)\n",
    "            loss, acc = model.evaluate(X_target, y_target, verbose=0)\n",
    "            print(f\"\\t Target sub {subject_id_target} acc => {acc*100:.2f}%\")\n",
    "            #print(f\"\\t Target sub {subject_id_target} acc => {np.max(history.history['val_accuracy'])*100:.2f}%\")\n",
    "            Sub_acc.append(acc)\n",
    "\n",
    "    ACC_all.append(Sub_acc)\n",
    "    print(\"\\n\")"
   ],
   "id": "e4c7c97158d57e2",
   "outputs": [
    {
     "name": "stdout",
     "output_type": "stream",
     "text": [
      "Sub ID 10\n",
      "\t (3281, 5, 5, 1), (3281,)\n",
      "\t Target sub 11 acc => 73.30%\n",
      "\t (6774, 5, 5, 1), (6774,)\n",
      "\t Target sub 1 acc => 80.12%\n",
      "\t (10437, 5, 5, 1), (10437,)\n",
      "\t Target sub 2 acc => 82.21%\n",
      "\t (13711, 5, 5, 1), (13711,)\n",
      "\t Target sub 3 acc => 98.19%\n",
      "\t (17348, 5, 5, 1), (17348,)\n",
      "\t Target sub 4 acc => 98.71%\n",
      "\t (20820, 5, 5, 1), (20820,)\n",
      "\t Target sub 5 acc => 98.50%\n",
      "\t (25091, 5, 5, 1), (25091,)\n",
      "\t Target sub 6 acc => 98.22%\n",
      "\t (29688, 5, 5, 1), (29688,)\n",
      "\t Target sub 7 acc => 98.22%\n",
      "\t (34803, 5, 5, 1), (34803,)\n"
     ]
    }
   ],
   "execution_count": null
  },
  {
   "metadata": {},
   "cell_type": "code",
   "outputs": [],
   "execution_count": null,
   "source": "",
   "id": "34a01e0593ddb85c"
  }
 ],
 "metadata": {
  "kernelspec": {
   "display_name": "Python 3",
   "language": "python",
   "name": "python3"
  },
  "language_info": {
   "codemirror_mode": {
    "name": "ipython",
    "version": 2
   },
   "file_extension": ".py",
   "mimetype": "text/x-python",
   "name": "python",
   "nbconvert_exporter": "python",
   "pygments_lexer": "ipython2",
   "version": "2.7.6"
  }
 },
 "nbformat": 4,
 "nbformat_minor": 5
}
