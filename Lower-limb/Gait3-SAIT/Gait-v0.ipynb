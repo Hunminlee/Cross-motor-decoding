{
 "cells": [
  {
   "metadata": {
    "ExecuteTime": {
     "end_time": "2025-08-20T23:56:31.530898Z",
     "start_time": "2025-08-20T23:56:24.728421Z"
    }
   },
   "cell_type": "code",
   "source": [
    "import numpy as np\n",
    "import pandas as pd\n",
    "import matplotlib.pyplot as plt\n",
    "import os, sys\n",
    "sys.path.append('../Shared')\n",
    "import processing, Model, Visualization, modules\n",
    "\n",
    "def get_label_from_filename(fname):\n",
    "    for cls, label in class_to_label.items():\n",
    "        if cls in fname:\n",
    "            return label\n",
    "    return None  # if no class found\n"
   ],
   "id": "7d0595e980f29466",
   "outputs": [],
   "execution_count": 42
  },
  {
   "metadata": {},
   "cell_type": "markdown",
   "source": "Label 파일에서 Status랑 Group있는데 걸음걸이 마다 랑 뭐 다르게 준것같음 - 그냥 무시하고 전체 레이블로 가기",
   "id": "24be27d7b91e4655"
  },
  {
   "metadata": {
    "ExecuteTime": {
     "end_time": "2025-08-20T23:41:53.046750Z",
     "start_time": "2025-08-20T23:41:53.043715Z"
    }
   },
   "cell_type": "code",
   "source": [
    "classes = ['STC', 'WAK', 'STDUP', 'SITDN', 'UPS', 'DNS', 'KLFT', 'TPTO', 'LLF', 'LLB', 'LLS', 'KLCL', 'HS', 'TO', 'LUGF', 'LUGB'] #16 classes\n",
    "\n",
    "Features = ['mav', 'var', 'zc', 'iemg', 'wl', 'wamp', 'mavs', 'rms', 'ssc', 'msq', 'v3', 'ld', 'dabs', 'mfl', 'mpr', 'mnf', 'psr', 'arc1', 'arc2', 'arc3', 'arc4', 'cc1', 'cc2', 'cc3', 'cca', 'dwtc1', 'dwtc2', 'dwtpc1', 'dwtpc2', 'dwtpc3']\n",
    "\n",
    "base_path = 'D:/Data/Gait-EMG/SIAT/SIAT_LLMD20230404/'\n",
    "Sub_lst_data = [f\"Sub{i:02d}\"+\"/Data/\" for i in range(1, 41)]\n",
    "Sub_lst_label = [f\"Sub{i:02d}\"+\"/Labels/\" for i in range(1, 41)]"
   ],
   "id": "b3916c09dfc8e601",
   "outputs": [],
   "execution_count": 30
  },
  {
   "cell_type": "code",
   "id": "initial_id",
   "metadata": {
    "collapsed": true,
    "ExecuteTime": {
     "end_time": "2025-08-20T23:53:05.899440Z",
     "start_time": "2025-08-20T23:53:03.215389Z"
    }
   },
   "source": [
    "###나중에 여기부터 for (Subject 단위) - 지금부터 1 subject 시작\n",
    "data_lst = os.listdir(base_path + Sub_lst_data[0])\n",
    "label_lst = os.listdir(base_path + Sub_lst_label[0])\n",
    "#label = pd.read_csv(base_path + Sub_lst_label[0] + label_lst[0])\n",
    "\n",
    "class_to_label = {cls: i for i, cls in enumerate(classes)}\n",
    "\n",
    "data_lst = os.listdir(base_path + Sub_lst_data[0])\n",
    "label_lst = os.listdir(base_path + Sub_lst_label[0])\n",
    "\n",
    "dataset, labels = [], []\n",
    "for l, d in zip(label_lst, data_lst):\n",
    "    print(l, d)\n",
    "    data = pd.read_csv(base_path + Sub_lst_data[0] + \"/\" + d)\n",
    "    data = data.iloc[:, 1:]   # 첫 column(time) 제거\n",
    "\n",
    "    label = get_label_from_filename(l)\n",
    "\n",
    "    labels.append(np.array([label] * data.shape[0]))\n",
    "    dataset.append(data)\n",
    "    print(np.array([label] * data.shape[0]).shape, data.shape, \"\\n\")"
   ],
   "outputs": [
    {
     "name": "stdout",
     "output_type": "stream",
     "text": [
      "Sub01_DNS_Label.csv Sub01_DNS_Data.csv\n",
      "(30668,) (30668, 25) \n",
      "\n",
      "Sub01_HS_Label.csv Sub01_HS_Data.csv\n",
      "(94817,) (94817, 25) \n",
      "\n",
      "Sub01_KLCL_Label.csv Sub01_KLCL_Data.csv\n",
      "(101249,) (101249, 25) \n",
      "\n",
      "Sub01_KLFT_Label.csv Sub01_KLFT_Data.csv\n",
      "(104193,) (104193, 25) \n",
      "\n",
      "Sub01_LLB_Label.csv Sub01_LLB_Data.csv\n",
      "(91745,) (91745, 25) \n",
      "\n",
      "Sub01_LLF_Label.csv Sub01_LLF_Data.csv\n",
      "(92417,) (92417, 25) \n",
      "\n",
      "Sub01_LLS_Label.csv Sub01_LLS_Data.csv\n",
      "(103041,) (103041, 25) \n",
      "\n",
      "Sub01_LUGB_Label.csv Sub01_LUGB_Data.csv\n",
      "(101281,) (101281, 25) \n",
      "\n",
      "Sub01_LUGF_Label.csv Sub01_LUGF_Data.csv\n",
      "(98913,) (98913, 25) \n",
      "\n",
      "Sub01_SITDN_Label.csv Sub01_SITDN_Data.csv\n",
      "(84645,) (84645, 25) \n",
      "\n",
      "Sub01_STC_Label.csv Sub01_STC_Data.csv\n",
      "(47845,) (47845, 25) \n",
      "\n",
      "Sub01_STDUP_Label.csv Sub01_STDUP_Data.csv\n",
      "(81925,) (81925, 25) \n",
      "\n",
      "Sub01_TO_Label.csv Sub01_TO_Data.csv\n",
      "(93633,) (93633, 25) \n",
      "\n",
      "Sub01_TPTO_Label.csv Sub01_TPTO_Data.csv\n",
      "(101313,) (101313, 25) \n",
      "\n",
      "Sub01_UPS_Label.csv Sub01_UPS_Data.csv\n",
      "(35479,) (35479, 25) \n",
      "\n",
      "Sub01_WAK_Label.csv Sub01_WAK_Data.csv\n",
      "(27164,) (27164, 25) \n",
      "\n"
     ]
    }
   ],
   "execution_count": 38
  },
  {
   "metadata": {
    "ExecuteTime": {
     "end_time": "2025-08-20T23:55:17.071496Z",
     "start_time": "2025-08-20T23:55:17.014697Z"
    }
   },
   "cell_type": "code",
   "source": [
    "#pd.Series(labels[0]).value_counts()\n",
    "\n",
    "D = np.concatenate(dataset, axis=0)\n",
    "L = np.concatenate(labels, axis=0)\n",
    "\n",
    "print(D.shape, L.shape)"
   ],
   "id": "b306cc179ed895d7",
   "outputs": [
    {
     "name": "stdout",
     "output_type": "stream",
     "text": [
      "(1290328, 25) (1290328,)\n"
     ]
    }
   ],
   "execution_count": 41
  },
  {
   "metadata": {
    "ExecuteTime": {
     "end_time": "2025-08-21T00:04:52.507315Z",
     "start_time": "2025-08-21T00:04:52.260448Z"
    }
   },
   "cell_type": "code",
   "source": [
    "balanced_idx = modules.Downsample_to_balance_class(L)\n",
    "X_emg_bal, y_bal = D[balanced_idx], L[balanced_idx]\n",
    "print(\"EMG:\", X_emg_bal.shape, \"y:\", y_bal.shape)\n",
    "\n",
    "X_emg_bal, y_bal = modules.random_downsample(X_emg_bal, y_bal, fraction=0.5)\n",
    "print(\"After downsampling - EMG:\", X_emg_bal.shape, \"y:\", y_bal.shape)"
   ],
   "id": "6a395442dd8047a1",
   "outputs": [
    {
     "name": "stdout",
     "output_type": "stream",
     "text": [
      "EMG: (434624, 25) y: (434624,)\n",
      "After downsampling - EMG: (217312, 25) y: (217312,)\n"
     ]
    }
   ],
   "execution_count": 45
  },
  {
   "metadata": {
    "ExecuteTime": {
     "end_time": "2025-08-21T00:09:53.741194Z",
     "start_time": "2025-08-21T00:04:54.174754Z"
    }
   },
   "cell_type": "code",
   "source": [
    "window_size, step_size = 200, 10\n",
    "num_channels, num_features = X_emg_bal.shape[1], 30\n",
    "\n",
    "X_tmp, y_tmp = processing.sliding_window_with_labels(X=X_emg_bal, y=y_bal,  window_size=window_size, step_size=step_size)  # (num_windows, win_len, ch)\n",
    "\n",
    "all_X, all_y = modules.get_X_y(X_tmp, y_tmp)\n",
    "all_y = modules.y_change_to_int(all_y)\n",
    "all_X = all_X.reshape(-1, num_channels, num_features, 1)"
   ],
   "id": "4556fc38fdebe914",
   "outputs": [
    {
     "name": "stderr",
     "output_type": "stream",
     "text": [
      "C:\\Users\\hml76\\PycharmProjects\\Cross-motor-decoding\\github\\Lower-limb\\Gait3-SAIT\\../Shared\\processing.py:85: RuntimeWarning: divide by zero encountered in log\n",
      "  spectrum = np.log(np.abs(fft(signal)))\n"
     ]
    },
    {
     "name": "stdout",
     "output_type": "stream",
     "text": [
      "Unique labels: [ 0  1  2  3  4  5  6  7  8  9 10 11 12 13 14 15]\n",
      "New labels: [ 0  1  2  3  4  5  6  7  8  9 10 11 12 13 14 15]\n"
     ]
    }
   ],
   "execution_count": 46
  },
  {
   "metadata": {
    "jupyter": {
     "is_executing": true
    },
    "ExecuteTime": {
     "start_time": "2025-08-21T00:22:08.120298Z"
    }
   },
   "cell_type": "code",
   "source": [
    "from sklearn.model_selection import train_test_split\n",
    "\n",
    "Sub_acc = []\n",
    "for feature_idx in range(num_features):\n",
    "    X_feature = all_X[:, :, feature_idx]   # shape: (samples, num_channels, 1, 1)\n",
    "    X_feature = X_feature.reshape(-1, num_channels, 1)\n",
    "    X_train, X_test, y_train, y_test = train_test_split(X_feature, all_y, test_size=0.2, random_state=42)\n",
    "\n",
    "    model = Model.build_model_1D(input_shape=X_feature.shape[1:], num_classes=len(np.unique(all_y)))\n",
    "    history = model.fit(X_train, y_train, validation_data=(X_test, y_test), epochs=50, batch_size=512, verbose=0)\n",
    "\n",
    "    print(f\"\\t Feature {feature_idx} ({Features[feature_idx]}): \"\n",
    "        f\"val acc => {np.max(history.history['val_accuracy'])*100:.2f}%\")\n",
    "    Sub_acc.append(np.max(history.history['val_accuracy'])*100)"
   ],
   "id": "3efd048749b02e12",
   "outputs": [
    {
     "name": "stderr",
     "output_type": "stream",
     "text": [
      "C:\\Users\\hml76\\PycharmProjects\\Cross-motor-decoding\\.venv\\Lib\\site-packages\\keras\\src\\layers\\convolutional\\base_conv.py:113: UserWarning: Do not pass an `input_shape`/`input_dim` argument to a layer. When using Sequential models, prefer using an `Input(shape)` object as the first layer in the model instead.\n",
      "  super().__init__(activity_regularizer=activity_regularizer, **kwargs)\n"
     ]
    }
   ],
   "execution_count": null
  },
  {
   "metadata": {},
   "cell_type": "code",
   "outputs": [],
   "execution_count": null,
   "source": "",
   "id": "a0e9c028717a98e1"
  }
 ],
 "metadata": {
  "kernelspec": {
   "display_name": "Python 3",
   "language": "python",
   "name": "python3"
  },
  "language_info": {
   "codemirror_mode": {
    "name": "ipython",
    "version": 2
   },
   "file_extension": ".py",
   "mimetype": "text/x-python",
   "name": "python",
   "nbconvert_exporter": "python",
   "pygments_lexer": "ipython2",
   "version": "2.7.6"
  }
 },
 "nbformat": 4,
 "nbformat_minor": 5
}
