{
 "cells": [
  {
   "metadata": {
    "ExecuteTime": {
     "end_time": "2025-08-21T03:52:07.358716Z",
     "start_time": "2025-08-21T03:52:05.006828Z"
    }
   },
   "cell_type": "code",
   "source": [
    "import numpy as np\n",
    "import pandas as pd\n",
    "import matplotlib.pyplot as plt\n",
    "import os, sys\n",
    "sys.path.append('../Shared')\n",
    "import processing, Model, Visualization, modules\n",
    "\n",
    "def get_label_from_filename(fname):\n",
    "    for cls, label in class_to_label.items():\n",
    "        if cls in fname:\n",
    "            return label\n",
    "    return None  # if no class found\n"
   ],
   "id": "7d0595e980f29466",
   "outputs": [],
   "execution_count": 1
  },
  {
   "metadata": {},
   "cell_type": "markdown",
   "source": "Label 파일에서 Status랑 Group있는데 걸음걸이 마다 랑 뭐 다르게 준것같음 - 그냥 무시하고 전체 레이블로 가기",
   "id": "24be27d7b91e4655"
  },
  {
   "metadata": {
    "ExecuteTime": {
     "end_time": "2025-08-21T03:52:07.365061Z",
     "start_time": "2025-08-21T03:52:07.361788Z"
    }
   },
   "cell_type": "code",
   "source": [
    "classes = ['STC', 'WAK', 'STDUP', 'SITDN', 'UPS', 'DNS', 'KLFT', 'TPTO', 'LLF', 'LLB', 'LLS', 'KLCL', 'HS', 'TO', 'LUGF', 'LUGB'] #16 classes\n",
    "\n",
    "Features = ['mav', 'var', 'zc', 'iemg', 'wl', 'wamp', 'mavs', 'rms', 'ssc', 'msq', 'v3', 'ld', 'dabs', 'mfl', 'mpr', 'mnf', 'psr', 'arc1', 'arc2', 'arc3', 'arc4', 'cc1', 'cc2', 'cc3', 'cca', 'dwtc1', 'dwtc2', 'dwtpc1', 'dwtpc2', 'dwtpc3']\n",
    "\n",
    "base_path = 'D:/Data/Gait-EMG/SIAT/SIAT_LLMD20230404/'\n",
    "Sub_lst_data = [f\"Sub{i:02d}\"+\"/Data/\" for i in range(1, 41)]\n",
    "Sub_lst_label = [f\"Sub{i:02d}\"+\"/Labels/\" for i in range(1, 41)]"
   ],
   "id": "b3916c09dfc8e601",
   "outputs": [],
   "execution_count": 2
  },
  {
   "cell_type": "code",
   "id": "initial_id",
   "metadata": {
    "collapsed": true,
    "ExecuteTime": {
     "end_time": "2025-08-21T00:37:49.346220Z",
     "start_time": "2025-08-21T00:37:46.652534Z"
    }
   },
   "source": [
    "###나중에 여기부터 for (Subject 단위) - 지금부터 1 subject 시작\n",
    "data_lst = os.listdir(base_path + Sub_lst_data[0])\n",
    "label_lst = os.listdir(base_path + Sub_lst_label[0])\n",
    "#label = pd.read_csv(base_path + Sub_lst_label[0] + label_lst[0])\n",
    "\n",
    "class_to_label = {cls: i for i, cls in enumerate(classes)}\n",
    "\n",
    "data_lst = os.listdir(base_path + Sub_lst_data[0])\n",
    "label_lst = os.listdir(base_path + Sub_lst_label[0])\n",
    "\n",
    "dataset, labels = [], []\n",
    "for l, d in zip(label_lst, data_lst):\n",
    "    print(l, d)\n",
    "    data = pd.read_csv(base_path + Sub_lst_data[0] + \"/\" + d)\n",
    "    data = data.iloc[:, 1:]   # 첫 column(time) 제거\n",
    "\n",
    "    label = get_label_from_filename(l)\n",
    "\n",
    "    labels.append(np.array([label] * data.shape[0]))\n",
    "    dataset.append(data)\n",
    "    print(np.array([label] * data.shape[0]).shape, data.shape)\n",
    "\n",
    "#pd.Series(labels[0]).value_counts()\n",
    "D = np.concatenate(dataset, axis=0)\n",
    "L = np.concatenate(labels, axis=0)\n",
    "print(D.shape, L.shape)\n",
    "\n",
    "balanced_idx = modules.Downsample_to_balance_class(L)\n",
    "X_emg_bal, y_bal = D[balanced_idx], L[balanced_idx]\n",
    "print(\"EMG:\", X_emg_bal.shape, \"y:\", y_bal.shape)\n",
    "\n",
    "window_size, step_size = 400, 20  #1926Hz\n",
    "num_channels, num_features = X_emg_bal.shape[1], 30\n",
    "\n",
    "X_tmp, y_tmp = processing.sliding_window_with_labels(X=X_emg_bal, y=y_bal, window_size=window_size, step_size=step_size)  # (num_windows, win_len, ch)\n",
    "\n",
    "all_X, all_y = modules.get_X_y(X_tmp, y_tmp)\n",
    "all_y = modules.y_change_to_int(all_y)\n",
    "all_X = all_X.reshape(-1, num_channels, num_features, 1)\n",
    "\n",
    "\n",
    "from sklearn.model_selection import train_test_split\n",
    "\n",
    "Sub_acc = []\n",
    "for feature_idx in range(num_features):\n",
    "    X_feature = all_X[:, :, feature_idx]   # shape: (samples, num_channels, 1, 1)\n",
    "    X_feature = X_feature.reshape(-1, num_channels, 1)\n",
    "    X_train, X_test, y_train, y_test = train_test_split(X_feature, all_y, test_size=0.2, random_state=42)\n",
    "\n",
    "    model = Model.build_model_1D(input_shape=X_feature.shape[1:], num_classes=len(np.unique(all_y)))\n",
    "    history = model.fit(X_train, y_train, validation_data=(X_test, y_test), epochs=50, batch_size=512, verbose=0)\n",
    "\n",
    "    print(f\"\\t Feature {feature_idx} ({Features[feature_idx]}): \"\n",
    "        f\"val acc => {np.max(history.history['val_accuracy'])*100:.2f}%\")\n",
    "    Sub_acc.append(np.max(history.history['val_accuracy'])*100)"
   ],
   "outputs": [
    {
     "name": "stdout",
     "output_type": "stream",
     "text": [
      "Sub01_DNS_Label.csv Sub01_DNS_Data.csv\n",
      "(30668,) (30668, 25) \n",
      "\n",
      "Sub01_HS_Label.csv Sub01_HS_Data.csv\n",
      "(94817,) (94817, 25) \n",
      "\n",
      "Sub01_KLCL_Label.csv Sub01_KLCL_Data.csv\n",
      "(101249,) (101249, 25) \n",
      "\n",
      "Sub01_KLFT_Label.csv Sub01_KLFT_Data.csv\n",
      "(104193,) (104193, 25) \n",
      "\n",
      "Sub01_LLB_Label.csv Sub01_LLB_Data.csv\n",
      "(91745,) (91745, 25) \n",
      "\n",
      "Sub01_LLF_Label.csv Sub01_LLF_Data.csv\n",
      "(92417,) (92417, 25) \n",
      "\n",
      "Sub01_LLS_Label.csv Sub01_LLS_Data.csv\n",
      "(103041,) (103041, 25) \n",
      "\n",
      "Sub01_LUGB_Label.csv Sub01_LUGB_Data.csv\n",
      "(101281,) (101281, 25) \n",
      "\n",
      "Sub01_LUGF_Label.csv Sub01_LUGF_Data.csv\n",
      "(98913,) (98913, 25) \n",
      "\n",
      "Sub01_SITDN_Label.csv Sub01_SITDN_Data.csv\n",
      "(84645,) (84645, 25) \n",
      "\n",
      "Sub01_STC_Label.csv Sub01_STC_Data.csv\n",
      "(47845,) (47845, 25) \n",
      "\n",
      "Sub01_STDUP_Label.csv Sub01_STDUP_Data.csv\n",
      "(81925,) (81925, 25) \n",
      "\n",
      "Sub01_TO_Label.csv Sub01_TO_Data.csv\n",
      "(93633,) (93633, 25) \n",
      "\n",
      "Sub01_TPTO_Label.csv Sub01_TPTO_Data.csv\n",
      "(101313,) (101313, 25) \n",
      "\n",
      "Sub01_UPS_Label.csv Sub01_UPS_Data.csv\n",
      "(35479,) (35479, 25) \n",
      "\n",
      "Sub01_WAK_Label.csv Sub01_WAK_Data.csv\n",
      "(27164,) (27164, 25) \n",
      "\n"
     ]
    }
   ],
   "execution_count": 3
  },
  {
   "metadata": {
    "ExecuteTime": {
     "end_time": "2025-08-21T00:37:58.628304Z",
     "start_time": "2025-08-21T00:37:58.425228Z"
    }
   },
   "cell_type": "code",
   "source": [
    "#X_emg_bal, y_bal = modules.random_downsample(X_emg_bal, y_bal, fraction=0.5)\n",
    "#print(\"After downsampling - EMG:\", X_emg_bal.shape, \"y:\", y_bal.shape)"
   ],
   "id": "6a395442dd8047a1",
   "outputs": [
    {
     "name": "stdout",
     "output_type": "stream",
     "text": [
      "EMG: (434624, 25) y: (434624,)\n"
     ]
    }
   ],
   "execution_count": 5
  },
  {
   "metadata": {
    "ExecuteTime": {
     "end_time": "2025-08-21T00:46:36.124194Z",
     "start_time": "2025-08-21T00:41:11.690662Z"
    }
   },
   "cell_type": "code",
   "source": [
    "window_size, step_size = 400, 20  #1926Hz\n",
    "num_channels, num_features = X_emg_bal.shape[1], 30\n",
    "\n",
    "X_tmp, y_tmp = processing.sliding_window_with_labels(X=X_emg_bal, y=y_bal, window_size=window_size, step_size=step_size)  # (num_windows, win_len, ch)\n",
    "\n",
    "all_X, all_y = modules.get_X_y(X_tmp, y_tmp)\n",
    "all_y = modules.y_change_to_int(all_y)\n",
    "all_X = all_X.reshape(-1, num_channels, num_features, 1)"
   ],
   "id": "4556fc38fdebe914",
   "outputs": [
    {
     "name": "stderr",
     "output_type": "stream",
     "text": [
      "C:\\Users\\hml76\\PycharmProjects\\Cross-motor-decoding\\github\\Lower-limb\\Gait3-SAIT\\../Shared\\processing.py:85: RuntimeWarning: divide by zero encountered in log\n",
      "  spectrum = np.log(np.abs(fft(signal)))\n"
     ]
    },
    {
     "name": "stdout",
     "output_type": "stream",
     "text": [
      "Unique labels: [ 0  1  2  3  4  5  6  7  8  9 10 11 12 13 14 15]\n",
      "New labels: [ 0  1  2  3  4  5  6  7  8  9 10 11 12 13 14 15]\n"
     ]
    }
   ],
   "execution_count": 6
  },
  {
   "metadata": {
    "ExecuteTime": {
     "end_time": "2025-08-21T00:50:08.421699Z",
     "start_time": "2025-08-21T00:46:36.169267Z"
    }
   },
   "cell_type": "code",
   "source": [
    "from sklearn.model_selection import train_test_split\n",
    "\n",
    "Sub_acc = []\n",
    "for feature_idx in range(num_features):\n",
    "    X_feature = all_X[:, :, feature_idx]   # shape: (samples, num_channels, 1, 1)\n",
    "    X_feature = X_feature.reshape(-1, num_channels, 1)\n",
    "    X_train, X_test, y_train, y_test = train_test_split(X_feature, all_y, test_size=0.2, random_state=42)\n",
    "\n",
    "    model = Model.build_model_1D(input_shape=X_feature.shape[1:], num_classes=len(np.unique(all_y)))\n",
    "    history = model.fit(X_train, y_train, validation_data=(X_test, y_test), epochs=50, batch_size=512, verbose=0)\n",
    "\n",
    "    print(f\"\\t Feature {feature_idx} ({Features[feature_idx]}): \"\n",
    "        f\"val acc => {np.max(history.history['val_accuracy'])*100:.2f}%\")\n",
    "    Sub_acc.append(np.max(history.history['val_accuracy'])*100)"
   ],
   "id": "3efd048749b02e12",
   "outputs": [
    {
     "name": "stderr",
     "output_type": "stream",
     "text": [
      "C:\\Users\\hml76\\PycharmProjects\\Cross-motor-decoding\\.venv\\Lib\\site-packages\\keras\\src\\layers\\convolutional\\base_conv.py:113: UserWarning: Do not pass an `input_shape`/`input_dim` argument to a layer. When using Sequential models, prefer using an `Input(shape)` object as the first layer in the model instead.\n",
      "  super().__init__(activity_regularizer=activity_regularizer, **kwargs)\n"
     ]
    },
    {
     "name": "stdout",
     "output_type": "stream",
     "text": [
      "\t Feature 0 (mav): val acc => 99.75%\n",
      "\t Feature 1 (var): val acc => 99.75%\n",
      "\t Feature 2 (zc): val acc => 99.95%\n",
      "\t Feature 3 (iemg): val acc => 99.61%\n",
      "\t Feature 4 (wl): val acc => 99.56%\n",
      "\t Feature 5 (wamp): val acc => 95.67%\n",
      "\t Feature 6 (mavs): val acc => 38.08%\n",
      "\t Feature 7 (rms): val acc => 99.86%\n",
      "\t Feature 8 (ssc): val acc => 10.78%\n",
      "\t Feature 9 (msq): val acc => 99.84%\n",
      "\t Feature 10 (v3): val acc => 99.59%\n",
      "\t Feature 11 (ld): val acc => 99.93%\n",
      "\t Feature 12 (dabs): val acc => 99.86%\n",
      "\t Feature 13 (mfl): val acc => 99.68%\n",
      "\t Feature 14 (mpr): val acc => 92.06%\n",
      "\t Feature 15 (mnf): val acc => 60.56%\n",
      "\t Feature 16 (psr): val acc => 6.19%\n",
      "\t Feature 17 (arc1): val acc => 66.13%\n",
      "\t Feature 18 (arc2): val acc => 65.46%\n",
      "\t Feature 19 (arc3): val acc => 74.67%\n",
      "\t Feature 20 (arc4): val acc => 56.55%\n",
      "\t Feature 21 (cc1): val acc => 5.89%\n",
      "\t Feature 22 (cc2): val acc => 5.53%\n",
      "\t Feature 23 (cc3): val acc => 5.53%\n",
      "\t Feature 24 (cca): val acc => 5.53%\n",
      "\t Feature 25 (dwtc1): val acc => 99.77%\n",
      "\t Feature 26 (dwtc2): val acc => 67.86%\n",
      "\t Feature 27 (dwtpc1): val acc => 99.91%\n",
      "\t Feature 28 (dwtpc2): val acc => 66.08%\n",
      "\t Feature 29 (dwtpc3): val acc => 66.98%\n"
     ]
    }
   ],
   "execution_count": 7
  },
  {
   "metadata": {
    "ExecuteTime": {
     "end_time": "2025-08-21T04:33:13.821862Z",
     "start_time": "2025-08-21T03:52:35.572747Z"
    }
   },
   "cell_type": "code",
   "source": [
    "###나중에 여기부터 for (Subject 단위) - 지금부터 1 subject 시작\n",
    "ACC_lst = []\n",
    "for SUB, LAB in zip(Sub_lst_data[34:], Sub_lst_label[34:]):\n",
    "    print(f\"Sub: {SUB} Start\\n==================================\\n==================================\\n\")\n",
    "    data_lst = os.listdir(base_path + SUB)\n",
    "    label_lst = os.listdir(base_path + LAB)\n",
    "\n",
    "    class_to_label = {cls: i for i, cls in enumerate(classes)}\n",
    "\n",
    "    dataset, labels = [], []\n",
    "    for l, d in zip(label_lst, data_lst):\n",
    "\n",
    "        data = pd.read_csv(base_path + SUB + \"/\" + d)\n",
    "        data = data.iloc[:, 1:]   # 첫 column(time) 제거\n",
    "\n",
    "        label = get_label_from_filename(l)\n",
    "\n",
    "        labels.append(np.array([label] * data.shape[0]))\n",
    "        dataset.append(data)\n",
    "        print(\"\\t\", l, d, \" ====> \", np.array([label] * data.shape[0]).shape, data.shape)\n",
    "\n",
    "    D = np.concatenate(dataset, axis=0)\n",
    "    L = np.concatenate(labels, axis=0)\n",
    "    print(D.shape, L.shape)\n",
    "\n",
    "    balanced_idx = modules.Downsample_to_balance_class(L)\n",
    "    X_emg_bal, y_bal = D[balanced_idx], L[balanced_idx]\n",
    "    print(\"\\t EMG:\", X_emg_bal.shape, \"y:\", y_bal.shape)\n",
    "\n",
    "    window_size, step_size = 400, 20\n",
    "    num_channels, num_features = X_emg_bal.shape[1], 30\n",
    "\n",
    "    X_tmp, y_tmp = processing.sliding_window_with_labels(X=X_emg_bal, y=y_bal,  window_size=window_size, step_size=step_size)  # (num_windows, win_len, ch)\n",
    "\n",
    "    all_X, all_y = modules.get_X_y(X_tmp, y_tmp)\n",
    "    all_y = modules.y_change_to_int(all_y)\n",
    "    all_X = all_X.reshape(-1, num_channels, num_features, 1)\n",
    "\n",
    "\n",
    "    from sklearn.model_selection import train_test_split\n",
    "\n",
    "    Sub_acc = []\n",
    "    for feature_idx in range(num_features):\n",
    "        X_feature = all_X[:, :, feature_idx]   # shape: (samples, num_channels, 1, 1)\n",
    "        X_feature = X_feature.reshape(-1, num_channels, 1)\n",
    "        X_train, X_test, y_train, y_test = train_test_split(X_feature, all_y, test_size=0.2, random_state=42)\n",
    "\n",
    "        model = Model.build_model_1D(input_shape=X_feature.shape[1:], num_classes=len(np.unique(all_y)))\n",
    "        history = model.fit(X_train, y_train, validation_data=(X_test, y_test), epochs=50, batch_size=512, verbose=0)\n",
    "\n",
    "        print(f\"\\t Feature {feature_idx} ({Features[feature_idx]}): \"\n",
    "            f\"val acc => {np.max(history.history['val_accuracy'])*100:.2f}%\")\n",
    "        Sub_acc.append(np.max(history.history['val_accuracy'])*100)\n",
    "    ACC_lst.append(Sub_acc)"
   ],
   "id": "caad49fb48d360fb",
   "outputs": [
    {
     "name": "stdout",
     "output_type": "stream",
     "text": [
      "Sub: Sub35/Data/ Start\n",
      "==================================\n",
      "==================================\n",
      "\n",
      "\t Sub35_DNS_Label.csv Sub35_DNS_Data.csv  ====>  (48359,) (48359, 25)\n",
      "\t Sub35_HS_Label.csv Sub35_HS_Data.csv  ====>  (105025,) (105025, 25)\n",
      "\t Sub35_KLCL_Label.csv Sub35_KLCL_Data.csv  ====>  (105121,) (105121, 25)\n",
      "\t Sub35_KLFT_Label.csv Sub35_KLFT_Data.csv  ====>  (92225,) (92225, 25)\n",
      "\t Sub35_LLB_Label.csv Sub35_LLB_Data.csv  ====>  (100769,) (100769, 25)\n",
      "\t Sub35_LLF_Label.csv Sub35_LLF_Data.csv  ====>  (107009,) (107009, 25)\n",
      "\t Sub35_LLS_Label.csv Sub35_LLS_Data.csv  ====>  (105537,) (105537, 25)\n",
      "\t Sub35_LUGB_Label.csv Sub35_LUGB_Data.csv  ====>  (97121,) (97121, 25)\n",
      "\t Sub35_LUGF_Label.csv Sub35_LUGF_Data.csv  ====>  (103041,) (103041, 25)\n",
      "\t Sub35_SITDN_Label.csv Sub35_SITDN_Data.csv  ====>  (111365,) (111365, 25)\n",
      "\t Sub35_STC_Label.csv Sub35_STC_Data.csv  ====>  (46117,) (46117, 25)\n",
      "\t Sub35_STDUP_Label.csv Sub35_STDUP_Data.csv  ====>  (102277,) (102277, 25)\n",
      "\t Sub35_TO_Label.csv Sub35_TO_Data.csv  ====>  (96449,) (96449, 25)\n",
      "\t Sub35_TPTO_Label.csv Sub35_TPTO_Data.csv  ====>  (93697,) (93697, 25)\n",
      "\t Sub35_UPS_Label.csv Sub35_UPS_Data.csv  ====>  (38855,) (38855, 25)\n",
      "\t Sub35_WAK_Label.csv Sub35_WAK_Data.csv  ====>  (26209,) (26209, 25)\n",
      "(1379176, 25) (1379176,)\n",
      "\t EMG: (419344, 25) y: (419344,)\n"
     ]
    },
    {
     "name": "stderr",
     "output_type": "stream",
     "text": [
      "C:\\Users\\hml76\\PycharmProjects\\Cross-motor-decoding\\github\\Lower-limb\\Gait3-SAIT\\../Shared\\processing.py:85: RuntimeWarning: divide by zero encountered in log\n",
      "  spectrum = np.log(np.abs(fft(signal)))\n"
     ]
    },
    {
     "name": "stdout",
     "output_type": "stream",
     "text": [
      "Unique labels: [ 0  1  2  3  4  5  6  7  8  9 10 11 12 13 14 15]\n",
      "New labels: [ 0  1  2  3  4  5  6  7  8  9 10 11 12 13 14 15]\n"
     ]
    },
    {
     "name": "stderr",
     "output_type": "stream",
     "text": [
      "C:\\Users\\hml76\\PycharmProjects\\Cross-motor-decoding\\.venv\\Lib\\site-packages\\keras\\src\\layers\\convolutional\\base_conv.py:113: UserWarning: Do not pass an `input_shape`/`input_dim` argument to a layer. When using Sequential models, prefer using an `Input(shape)` object as the first layer in the model instead.\n",
      "  super().__init__(activity_regularizer=activity_regularizer, **kwargs)\n"
     ]
    },
    {
     "name": "stdout",
     "output_type": "stream",
     "text": [
      "\t Feature 0 (mav): val acc => 99.64%\n",
      "\t Feature 1 (var): val acc => 99.79%\n",
      "\t Feature 2 (zc): val acc => 99.93%\n",
      "\t Feature 3 (iemg): val acc => 99.57%\n",
      "\t Feature 4 (wl): val acc => 99.55%\n",
      "\t Feature 5 (wamp): val acc => 99.31%\n",
      "\t Feature 6 (mavs): val acc => 39.16%\n",
      "\t Feature 7 (rms): val acc => 99.62%\n",
      "\t Feature 8 (ssc): val acc => 9.67%\n",
      "\t Feature 9 (msq): val acc => 99.74%\n",
      "\t Feature 10 (v3): val acc => 99.59%\n",
      "\t Feature 11 (ld): val acc => 99.67%\n",
      "\t Feature 12 (dabs): val acc => 99.71%\n",
      "\t Feature 13 (mfl): val acc => 99.62%\n",
      "\t Feature 14 (mpr): val acc => 90.12%\n",
      "\t Feature 15 (mnf): val acc => 78.26%\n",
      "\t Feature 16 (psr): val acc => 6.04%\n",
      "\t Feature 17 (arc1): val acc => 65.73%\n",
      "\t Feature 18 (arc2): val acc => 61.26%\n",
      "\t Feature 19 (arc3): val acc => 65.25%\n",
      "\t Feature 20 (arc4): val acc => 51.98%\n",
      "\t Feature 21 (cc1): val acc => 6.09%\n",
      "\t Feature 22 (cc2): val acc => 5.44%\n",
      "\t Feature 23 (cc3): val acc => 5.44%\n",
      "\t Feature 24 (cca): val acc => 5.44%\n",
      "\t Feature 25 (dwtc1): val acc => 99.45%\n",
      "\t Feature 26 (dwtc2): val acc => 66.59%\n",
      "\t Feature 27 (dwtpc1): val acc => 99.67%\n",
      "\t Feature 28 (dwtpc2): val acc => 66.63%\n",
      "\t Feature 29 (dwtpc3): val acc => 68.66%\n",
      "Sub: Sub36/Data/ Start\n",
      "==================================\n",
      "==================================\n",
      "\n",
      "\t Sub36_DNS_Label.csv Sub36_DNS_Data.csv  ====>  (23438,) (23438, 25)\n",
      "\t Sub36_HS_Label.csv Sub36_HS_Data.csv  ====>  (100833,) (100833, 25)\n",
      "\t Sub36_KLCL_Label.csv Sub36_KLCL_Data.csv  ====>  (103457,) (103457, 25)\n",
      "\t Sub36_KLFT_Label.csv Sub36_KLFT_Data.csv  ====>  (102337,) (102337, 25)\n",
      "\t Sub36_LLB_Label.csv Sub36_LLB_Data.csv  ====>  (96609,) (96609, 25)\n",
      "\t Sub36_LLF_Label.csv Sub36_LLF_Data.csv  ====>  (101921,) (101921, 25)\n",
      "\t Sub36_LLS_Label.csv Sub36_LLS_Data.csv  ====>  (104545,) (104545, 25)\n",
      "\t Sub36_LUGB_Label.csv Sub36_LUGB_Data.csv  ====>  (103137,) (103137, 25)\n",
      "\t Sub36_LUGF_Label.csv Sub36_LUGF_Data.csv  ====>  (104705,) (104705, 25)\n",
      "\t Sub36_SITDN_Label.csv Sub36_SITDN_Data.csv  ====>  (96229,) (96229, 25)\n",
      "\t Sub36_STC_Label.csv Sub36_STC_Data.csv  ====>  (47845,) (47845, 25)\n",
      "\t Sub36_STDUP_Label.csv Sub36_STDUP_Data.csv  ====>  (98757,) (98757, 25)\n",
      "\t Sub36_TO_Label.csv Sub36_TO_Data.csv  ====>  (95681,) (95681, 25)\n",
      "\t Sub36_TPTO_Label.csv Sub36_TPTO_Data.csv  ====>  (99905,) (99905, 25)\n",
      "\t Sub36_UPS_Label.csv Sub36_UPS_Data.csv  ====>  (38110,) (38110, 25)\n",
      "\t Sub36_WAK_Label.csv Sub36_WAK_Data.csv  ====>  (26993,) (26993, 25)\n",
      "(1344502, 25) (1344502,)\n",
      "\t EMG: (375008, 25) y: (375008,)\n"
     ]
    },
    {
     "name": "stderr",
     "output_type": "stream",
     "text": [
      "C:\\Users\\hml76\\PycharmProjects\\Cross-motor-decoding\\github\\Lower-limb\\Gait3-SAIT\\../Shared\\processing.py:85: RuntimeWarning: divide by zero encountered in log\n",
      "  spectrum = np.log(np.abs(fft(signal)))\n"
     ]
    },
    {
     "name": "stdout",
     "output_type": "stream",
     "text": [
      "Unique labels: [ 0  1  2  3  4  5  6  7  8  9 10 11 12 13 14 15]\n",
      "New labels: [ 0  1  2  3  4  5  6  7  8  9 10 11 12 13 14 15]\n"
     ]
    },
    {
     "name": "stderr",
     "output_type": "stream",
     "text": [
      "C:\\Users\\hml76\\PycharmProjects\\Cross-motor-decoding\\.venv\\Lib\\site-packages\\keras\\src\\layers\\convolutional\\base_conv.py:113: UserWarning: Do not pass an `input_shape`/`input_dim` argument to a layer. When using Sequential models, prefer using an `Input(shape)` object as the first layer in the model instead.\n",
      "  super().__init__(activity_regularizer=activity_regularizer, **kwargs)\n"
     ]
    },
    {
     "name": "stdout",
     "output_type": "stream",
     "text": [
      "\t Feature 0 (mav): val acc => 99.81%\n",
      "\t Feature 1 (var): val acc => 99.73%\n",
      "\t Feature 2 (zc): val acc => 99.84%\n",
      "\t Feature 3 (iemg): val acc => 99.60%\n",
      "\t Feature 4 (wl): val acc => 99.73%\n",
      "\t Feature 5 (wamp): val acc => 99.33%\n",
      "\t Feature 6 (mavs): val acc => 37.28%\n",
      "\t Feature 7 (rms): val acc => 99.73%\n",
      "\t Feature 8 (ssc): val acc => 9.47%\n",
      "\t Feature 9 (msq): val acc => 99.79%\n",
      "\t Feature 10 (v3): val acc => 99.55%\n",
      "\t Feature 11 (ld): val acc => 99.65%\n",
      "\t Feature 12 (dabs): val acc => 99.55%\n",
      "\t Feature 13 (mfl): val acc => 99.65%\n",
      "\t Feature 14 (mpr): val acc => 93.03%\n",
      "\t Feature 15 (mnf): val acc => 78.92%\n",
      "\t Feature 16 (psr): val acc => 6.14%\n",
      "\t Feature 17 (arc1): val acc => 64.61%\n",
      "\t Feature 18 (arc2): val acc => 65.89%\n",
      "\t Feature 19 (arc3): val acc => 52.84%\n",
      "\t Feature 20 (arc4): val acc => 53.27%\n",
      "\t Feature 21 (cc1): val acc => 6.14%\n",
      "\t Feature 22 (cc2): val acc => 6.11%\n",
      "\t Feature 23 (cc3): val acc => 6.11%\n",
      "\t Feature 24 (cca): val acc => 6.11%\n",
      "\t Feature 25 (dwtc1): val acc => 99.31%\n",
      "\t Feature 26 (dwtc2): val acc => 71.50%\n",
      "\t Feature 27 (dwtpc1): val acc => 99.79%\n",
      "\t Feature 28 (dwtpc2): val acc => 70.38%\n",
      "\t Feature 29 (dwtpc3): val acc => 71.92%\n",
      "Sub: Sub37/Data/ Start\n",
      "==================================\n",
      "==================================\n",
      "\n",
      "\t Sub37_DNS_Label.csv Sub37_DNS_Data.csv  ====>  (22193,) (22193, 25)\n",
      "\t Sub37_HS_Label.csv Sub37_HS_Data.csv  ====>  (105281,) (105281, 25)\n",
      "\t Sub37_KLCL_Label.csv Sub37_KLCL_Data.csv  ====>  (103777,) (103777, 25)\n",
      "\t Sub37_KLFT_Label.csv Sub37_KLFT_Data.csv  ====>  (93921,) (93921, 25)\n",
      "\t Sub37_LLB_Label.csv Sub37_LLB_Data.csv  ====>  (95329,) (95329, 25)\n",
      "\t Sub37_LLF_Label.csv Sub37_LLF_Data.csv  ====>  (105057,) (105057, 25)\n",
      "\t Sub37_LLS_Label.csv Sub37_LLS_Data.csv  ====>  (98593,) (98593, 25)\n",
      "\t Sub37_LUGB_Label.csv Sub37_LUGB_Data.csv  ====>  (105441,) (105441, 25)\n",
      "\t Sub37_LUGF_Label.csv Sub37_LUGF_Data.csv  ====>  (100193,) (100193, 25)\n",
      "\t Sub37_SITDN_Label.csv Sub37_SITDN_Data.csv  ====>  (91589,) (91589, 25)\n",
      "\t Sub37_STC_Label.csv Sub37_STC_Data.csv  ====>  (47845,) (47845, 25)\n",
      "\t Sub37_STDUP_Label.csv Sub37_STDUP_Data.csv  ====>  (101765,) (101765, 25)\n",
      "\t Sub37_TO_Label.csv Sub37_TO_Data.csv  ====>  (104193,) (104193, 25)\n",
      "\t Sub37_TPTO_Label.csv Sub37_TPTO_Data.csv  ====>  (104033,) (104033, 25)\n",
      "\t Sub37_UPS_Label.csv Sub37_UPS_Data.csv  ====>  (27003,) (27003, 25)\n",
      "\t Sub37_WAK_Label.csv Sub37_WAK_Data.csv  ====>  (23297,) (23297, 25)\n",
      "(1329510, 25) (1329510,)\n",
      "\t EMG: (355088, 25) y: (355088,)\n"
     ]
    },
    {
     "name": "stderr",
     "output_type": "stream",
     "text": [
      "C:\\Users\\hml76\\PycharmProjects\\Cross-motor-decoding\\github\\Lower-limb\\Gait3-SAIT\\../Shared\\processing.py:85: RuntimeWarning: divide by zero encountered in log\n",
      "  spectrum = np.log(np.abs(fft(signal)))\n"
     ]
    },
    {
     "name": "stdout",
     "output_type": "stream",
     "text": [
      "Unique labels: [ 0  1  2  3  4  5  6  7  8  9 10 11 12 13 14 15]\n",
      "New labels: [ 0  1  2  3  4  5  6  7  8  9 10 11 12 13 14 15]\n"
     ]
    },
    {
     "name": "stderr",
     "output_type": "stream",
     "text": [
      "C:\\Users\\hml76\\PycharmProjects\\Cross-motor-decoding\\.venv\\Lib\\site-packages\\keras\\src\\layers\\convolutional\\base_conv.py:113: UserWarning: Do not pass an `input_shape`/`input_dim` argument to a layer. When using Sequential models, prefer using an `Input(shape)` object as the first layer in the model instead.\n",
      "  super().__init__(activity_regularizer=activity_regularizer, **kwargs)\n"
     ]
    },
    {
     "name": "stdout",
     "output_type": "stream",
     "text": [
      "\t Feature 0 (mav): val acc => 99.35%\n",
      "\t Feature 1 (var): val acc => 99.41%\n",
      "\t Feature 2 (zc): val acc => 99.83%\n",
      "\t Feature 3 (iemg): val acc => 99.77%\n",
      "\t Feature 4 (wl): val acc => 99.77%\n",
      "\t Feature 5 (wamp): val acc => 99.27%\n",
      "\t Feature 6 (mavs): val acc => 35.38%\n",
      "\t Feature 7 (rms): val acc => 99.66%\n",
      "\t Feature 8 (ssc): val acc => 9.67%\n",
      "\t Feature 9 (msq): val acc => 98.93%\n",
      "\t Feature 10 (v3): val acc => 97.32%\n",
      "\t Feature 11 (ld): val acc => 99.80%\n",
      "\t Feature 12 (dabs): val acc => 99.66%\n",
      "\t Feature 13 (mfl): val acc => 99.72%\n",
      "\t Feature 14 (mpr): val acc => 94.16%\n",
      "\t Feature 15 (mnf): val acc => 65.94%\n",
      "\t Feature 16 (psr): val acc => 6.32%\n",
      "\t Feature 17 (arc1): val acc => 70.82%\n",
      "\t Feature 18 (arc2): val acc => 72.17%\n",
      "\t Feature 19 (arc3): val acc => 68.88%\n",
      "\t Feature 20 (arc4): val acc => 70.62%\n",
      "\t Feature 21 (cc1): val acc => 5.92%\n",
      "\t Feature 22 (cc2): val acc => 5.69%\n",
      "\t Feature 23 (cc3): val acc => 5.92%\n",
      "\t Feature 24 (cca): val acc => 5.98%\n",
      "\t Feature 25 (dwtc1): val acc => 99.69%\n",
      "\t Feature 26 (dwtc2): val acc => 66.06%\n",
      "\t Feature 27 (dwtpc1): val acc => 99.75%\n",
      "\t Feature 28 (dwtpc2): val acc => 65.60%\n",
      "\t Feature 29 (dwtpc3): val acc => 67.07%\n",
      "Sub: Sub38/Data/ Start\n",
      "==================================\n",
      "==================================\n",
      "\n",
      "\t Sub38_DNS_Label.csv Sub38_DNS_Data.csv  ====>  (22295,) (22295, 25)\n",
      "\t Sub38_HS_Label.csv Sub38_HS_Data.csv  ====>  (99873,) (99873, 25)\n",
      "\t Sub38_KLCL_Label.csv Sub38_KLCL_Data.csv  ====>  (101441,) (101441, 25)\n",
      "\t Sub38_KLFT_Label.csv Sub38_KLFT_Data.csv  ====>  (105825,) (105825, 25)\n",
      "\t Sub38_LLB_Label.csv Sub38_LLB_Data.csv  ====>  (96961,) (96961, 25)\n",
      "\t Sub38_LLF_Label.csv Sub38_LLF_Data.csv  ====>  (99617,) (99617, 25)\n",
      "\t Sub38_LLS_Label.csv Sub38_LLS_Data.csv  ====>  (92577,) (92577, 25)\n",
      "\t Sub38_LUGB_Label.csv Sub38_LUGB_Data.csv  ====>  (97089,) (97089, 25)\n",
      "\t Sub38_LUGF_Label.csv Sub38_LUGF_Data.csv  ====>  (99553,) (99553, 25)\n",
      "\t Sub38_SITDN_Label.csv Sub38_SITDN_Data.csv  ====>  (101157,) (101157, 25)\n",
      "\t Sub38_STC_Label.csv Sub38_STC_Data.csv  ====>  (47845,) (47845, 25)\n",
      "\t Sub38_STDUP_Label.csv Sub38_STDUP_Data.csv  ====>  (105573,) (105573, 25)\n",
      "\t Sub38_TO_Label.csv Sub38_TO_Data.csv  ====>  (98465,) (98465, 25)\n",
      "\t Sub38_TPTO_Label.csv Sub38_TPTO_Data.csv  ====>  (94657,) (94657, 25)\n",
      "\t Sub38_UPS_Label.csv Sub38_UPS_Data.csv  ====>  (24735,) (24735, 25)\n",
      "\t Sub38_WAK_Label.csv Sub38_WAK_Data.csv  ====>  (19633,) (19633, 25)\n",
      "(1307296, 25) (1307296,)\n",
      "\t EMG: (314128, 25) y: (314128,)\n"
     ]
    },
    {
     "name": "stderr",
     "output_type": "stream",
     "text": [
      "C:\\Users\\hml76\\PycharmProjects\\Cross-motor-decoding\\github\\Lower-limb\\Gait3-SAIT\\../Shared\\processing.py:85: RuntimeWarning: divide by zero encountered in log\n",
      "  spectrum = np.log(np.abs(fft(signal)))\n"
     ]
    },
    {
     "name": "stdout",
     "output_type": "stream",
     "text": [
      "Unique labels: [ 0  1  2  3  4  5  6  7  8  9 10 11 12 13 14 15]\n",
      "New labels: [ 0  1  2  3  4  5  6  7  8  9 10 11 12 13 14 15]\n"
     ]
    },
    {
     "name": "stderr",
     "output_type": "stream",
     "text": [
      "C:\\Users\\hml76\\PycharmProjects\\Cross-motor-decoding\\.venv\\Lib\\site-packages\\keras\\src\\layers\\convolutional\\base_conv.py:113: UserWarning: Do not pass an `input_shape`/`input_dim` argument to a layer. When using Sequential models, prefer using an `Input(shape)` object as the first layer in the model instead.\n",
      "  super().__init__(activity_regularizer=activity_regularizer, **kwargs)\n"
     ]
    },
    {
     "name": "stdout",
     "output_type": "stream",
     "text": [
      "\t Feature 0 (mav): val acc => 99.68%\n",
      "\t Feature 1 (var): val acc => 99.81%\n",
      "\t Feature 2 (zc): val acc => 99.78%\n",
      "\t Feature 3 (iemg): val acc => 99.43%\n",
      "\t Feature 4 (wl): val acc => 99.52%\n",
      "\t Feature 5 (wamp): val acc => 97.13%\n",
      "\t Feature 6 (mavs): val acc => 31.84%\n",
      "\t Feature 7 (rms): val acc => 99.75%\n",
      "\t Feature 8 (ssc): val acc => 9.91%\n",
      "\t Feature 9 (msq): val acc => 99.78%\n",
      "\t Feature 10 (v3): val acc => 99.55%\n",
      "\t Feature 11 (ld): val acc => 99.84%\n",
      "\t Feature 12 (dabs): val acc => 99.55%\n",
      "\t Feature 13 (mfl): val acc => 99.71%\n",
      "\t Feature 14 (mpr): val acc => 83.08%\n",
      "\t Feature 15 (mnf): val acc => 85.88%\n",
      "\t Feature 16 (psr): val acc => 5.51%\n",
      "\t Feature 17 (arc1): val acc => 64.37%\n",
      "\t Feature 18 (arc2): val acc => 62.30%\n",
      "\t Feature 19 (arc3): val acc => 50.80%\n",
      "\t Feature 20 (arc4): val acc => 50.80%\n",
      "\t Feature 21 (cc1): val acc => 5.99%\n",
      "\t Feature 22 (cc2): val acc => 6.25%\n",
      "\t Feature 23 (cc3): val acc => 6.25%\n",
      "\t Feature 24 (cca): val acc => 6.25%\n",
      "\t Feature 25 (dwtc1): val acc => 99.65%\n",
      "\t Feature 26 (dwtc2): val acc => 69.98%\n",
      "\t Feature 27 (dwtpc1): val acc => 99.65%\n",
      "\t Feature 28 (dwtpc2): val acc => 68.74%\n",
      "\t Feature 29 (dwtpc3): val acc => 71.67%\n",
      "Sub: Sub39/Data/ Start\n",
      "==================================\n",
      "==================================\n",
      "\n",
      "\t Sub39_DNS_Label.csv Sub39_DNS_Data.csv  ====>  (22228,) (22228, 25)\n",
      "\t Sub39_HS_Label.csv Sub39_HS_Data.csv  ====>  (106209,) (106209, 25)\n",
      "\t Sub39_KLCL_Label.csv Sub39_KLCL_Data.csv  ====>  (106529,) (106529, 25)\n",
      "\t Sub39_KLFT_Label.csv Sub39_KLFT_Data.csv  ====>  (101793,) (101793, 25)\n",
      "\t Sub39_LLB_Label.csv Sub39_LLB_Data.csv  ====>  (98145,) (98145, 25)\n",
      "\t Sub39_LLF_Label.csv Sub39_LLF_Data.csv  ====>  (100801,) (100801, 25)\n",
      "\t Sub39_LLS_Label.csv Sub39_LLS_Data.csv  ====>  (101441,) (101441, 25)\n",
      "\t Sub39_LUGB_Label.csv Sub39_LUGB_Data.csv  ====>  (98977,) (98977, 25)\n",
      "\t Sub39_LUGF_Label.csv Sub39_LUGF_Data.csv  ====>  (98113,) (98113, 25)\n",
      "\t Sub39_SITDN_Label.csv Sub39_SITDN_Data.csv  ====>  (107621,) (107621, 25)\n",
      "\t Sub39_STC_Label.csv Sub39_STC_Data.csv  ====>  (47845,) (47845, 25)\n",
      "\t Sub39_STDUP_Label.csv Sub39_STDUP_Data.csv  ====>  (109157,) (109157, 25)\n",
      "\t Sub39_TO_Label.csv Sub39_TO_Data.csv  ====>  (102401,) (102401, 25)\n",
      "\t Sub39_TPTO_Label.csv Sub39_TPTO_Data.csv  ====>  (101857,) (101857, 25)\n",
      "\t Sub39_UPS_Label.csv Sub39_UPS_Data.csv  ====>  (26943,) (26943, 25)\n",
      "\t Sub39_WAK_Label.csv Sub39_WAK_Data.csv  ====>  (20535,) (20535, 25)\n",
      "(1350595, 25) (1350595,)\n",
      "\t EMG: (328560, 25) y: (328560,)\n"
     ]
    },
    {
     "name": "stderr",
     "output_type": "stream",
     "text": [
      "C:\\Users\\hml76\\PycharmProjects\\Cross-motor-decoding\\github\\Lower-limb\\Gait3-SAIT\\../Shared\\processing.py:85: RuntimeWarning: divide by zero encountered in log\n",
      "  spectrum = np.log(np.abs(fft(signal)))\n"
     ]
    },
    {
     "name": "stdout",
     "output_type": "stream",
     "text": [
      "Unique labels: [ 0  1  2  3  4  5  6  7  8  9 10 11 12 13 14 15]\n",
      "New labels: [ 0  1  2  3  4  5  6  7  8  9 10 11 12 13 14 15]\n"
     ]
    },
    {
     "name": "stderr",
     "output_type": "stream",
     "text": [
      "C:\\Users\\hml76\\PycharmProjects\\Cross-motor-decoding\\.venv\\Lib\\site-packages\\keras\\src\\layers\\convolutional\\base_conv.py:113: UserWarning: Do not pass an `input_shape`/`input_dim` argument to a layer. When using Sequential models, prefer using an `Input(shape)` object as the first layer in the model instead.\n",
      "  super().__init__(activity_regularizer=activity_regularizer, **kwargs)\n"
     ]
    },
    {
     "name": "stdout",
     "output_type": "stream",
     "text": [
      "\t Feature 0 (mav): val acc => 99.12%\n",
      "\t Feature 1 (var): val acc => 99.63%\n",
      "\t Feature 2 (zc): val acc => 99.94%\n",
      "\t Feature 3 (iemg): val acc => 99.63%\n",
      "\t Feature 4 (wl): val acc => 99.66%\n",
      "\t Feature 5 (wamp): val acc => 96.71%\n",
      "\t Feature 6 (mavs): val acc => 37.14%\n",
      "\t Feature 7 (rms): val acc => 99.33%\n",
      "\t Feature 8 (ssc): val acc => 8.90%\n",
      "\t Feature 9 (msq): val acc => 99.54%\n",
      "\t Feature 10 (v3): val acc => 99.09%\n",
      "\t Feature 11 (ld): val acc => 99.82%\n",
      "\t Feature 12 (dabs): val acc => 99.42%\n",
      "\t Feature 13 (mfl): val acc => 99.60%\n",
      "\t Feature 14 (mpr): val acc => 88.33%\n",
      "\t Feature 15 (mnf): val acc => 91.04%\n",
      "\t Feature 16 (psr): val acc => 6.15%\n",
      "\t Feature 17 (arc1): val acc => 62.52%\n",
      "\t Feature 18 (arc2): val acc => 63.50%\n",
      "\t Feature 19 (arc3): val acc => 61.37%\n",
      "\t Feature 20 (arc4): val acc => 50.21%\n",
      "\t Feature 21 (cc1): val acc => 5.70%\n",
      "\t Feature 22 (cc2): val acc => 6.22%\n",
      "\t Feature 23 (cc3): val acc => 6.22%\n",
      "\t Feature 24 (cca): val acc => 6.22%\n",
      "\t Feature 25 (dwtc1): val acc => 99.36%\n",
      "\t Feature 26 (dwtc2): val acc => 68.25%\n",
      "\t Feature 27 (dwtpc1): val acc => 99.91%\n",
      "\t Feature 28 (dwtpc2): val acc => 68.53%\n",
      "\t Feature 29 (dwtpc3): val acc => 69.77%\n",
      "Sub: Sub40/Data/ Start\n",
      "==================================\n",
      "==================================\n",
      "\n",
      "\t Sub40_DNS_Label.csv Sub40_DNS_Data.csv  ====>  (20762,) (20762, 25)\n",
      "\t Sub40_HS_Label.csv Sub40_HS_Data.csv  ====>  (99169,) (99169, 25)\n",
      "\t Sub40_KLCL_Label.csv Sub40_KLCL_Data.csv  ====>  (96449,) (96449, 25)\n",
      "\t Sub40_KLFT_Label.csv Sub40_KLFT_Data.csv  ====>  (98433,) (98433, 25)\n",
      "\t Sub40_LLB_Label.csv Sub40_LLB_Data.csv  ====>  (104865,) (104865, 25)\n",
      "\t Sub40_LLF_Label.csv Sub40_LLF_Data.csv  ====>  (100865,) (100865, 25)\n",
      "\t Sub40_LLS_Label.csv Sub40_LLS_Data.csv  ====>  (97153,) (97153, 25)\n",
      "\t Sub40_LUGB_Label.csv Sub40_LUGB_Data.csv  ====>  (106721,) (106721, 25)\n",
      "\t Sub40_LUGF_Label.csv Sub40_LUGF_Data.csv  ====>  (100865,) (100865, 25)\n",
      "\t Sub40_SITDN_Label.csv Sub40_SITDN_Data.csv  ====>  (93605,) (93605, 25)\n",
      "\t Sub40_STC_Label.csv Sub40_STC_Data.csv  ====>  (47845,) (47845, 25)\n",
      "\t Sub40_STDUP_Label.csv Sub40_STDUP_Data.csv  ====>  (97957,) (97957, 25)\n",
      "\t Sub40_TO_Label.csv Sub40_TO_Data.csv  ====>  (94657,) (94657, 25)\n",
      "\t Sub40_TPTO_Label.csv Sub40_TPTO_Data.csv  ====>  (101793,) (101793, 25)\n",
      "\t Sub40_UPS_Label.csv Sub40_UPS_Data.csv  ====>  (28051,) (28051, 25)\n",
      "\t Sub40_WAK_Label.csv Sub40_WAK_Data.csv  ====>  (21098,) (21098, 25)\n",
      "(1310288, 25) (1310288,)\n",
      "\t EMG: (332192, 25) y: (332192,)\n"
     ]
    },
    {
     "name": "stderr",
     "output_type": "stream",
     "text": [
      "C:\\Users\\hml76\\PycharmProjects\\Cross-motor-decoding\\github\\Lower-limb\\Gait3-SAIT\\../Shared\\processing.py:85: RuntimeWarning: divide by zero encountered in log\n",
      "  spectrum = np.log(np.abs(fft(signal)))\n"
     ]
    },
    {
     "name": "stdout",
     "output_type": "stream",
     "text": [
      "Unique labels: [ 0  1  2  3  4  5  6  7  8  9 10 11 12 13 14 15]\n",
      "New labels: [ 0  1  2  3  4  5  6  7  8  9 10 11 12 13 14 15]\n"
     ]
    },
    {
     "name": "stderr",
     "output_type": "stream",
     "text": [
      "C:\\Users\\hml76\\PycharmProjects\\Cross-motor-decoding\\.venv\\Lib\\site-packages\\keras\\src\\layers\\convolutional\\base_conv.py:113: UserWarning: Do not pass an `input_shape`/`input_dim` argument to a layer. When using Sequential models, prefer using an `Input(shape)` object as the first layer in the model instead.\n",
      "  super().__init__(activity_regularizer=activity_regularizer, **kwargs)\n"
     ]
    },
    {
     "name": "stdout",
     "output_type": "stream",
     "text": [
      "\t Feature 0 (mav): val acc => 99.85%\n",
      "\t Feature 1 (var): val acc => 99.79%\n",
      "\t Feature 2 (zc): val acc => 99.85%\n",
      "\t Feature 3 (iemg): val acc => 99.73%\n",
      "\t Feature 4 (wl): val acc => 99.55%\n",
      "\t Feature 5 (wamp): val acc => 98.64%\n",
      "\t Feature 6 (mavs): val acc => 33.03%\n",
      "\t Feature 7 (rms): val acc => 99.73%\n",
      "\t Feature 8 (ssc): val acc => 8.47%\n",
      "\t Feature 9 (msq): val acc => 99.79%\n",
      "\t Feature 10 (v3): val acc => 99.28%\n",
      "\t Feature 11 (ld): val acc => 99.79%\n",
      "\t Feature 12 (dabs): val acc => 99.67%\n",
      "\t Feature 13 (mfl): val acc => 99.61%\n",
      "\t Feature 14 (mpr): val acc => 90.48%\n",
      "\t Feature 15 (mnf): val acc => 76.97%\n",
      "\t Feature 16 (psr): val acc => 6.12%\n",
      "\t Feature 17 (arc1): val acc => 47.86%\n",
      "\t Feature 18 (arc2): val acc => 49.67%\n",
      "\t Feature 19 (arc3): val acc => 59.58%\n",
      "\t Feature 20 (arc4): val acc => 63.14%\n",
      "\t Feature 21 (cc1): val acc => 5.85%\n",
      "\t Feature 22 (cc2): val acc => 6.30%\n",
      "\t Feature 23 (cc3): val acc => 6.30%\n",
      "\t Feature 24 (cca): val acc => 6.30%\n",
      "\t Feature 25 (dwtc1): val acc => 99.49%\n",
      "\t Feature 26 (dwtc2): val acc => 69.17%\n",
      "\t Feature 27 (dwtpc1): val acc => 99.79%\n",
      "\t Feature 28 (dwtpc2): val acc => 68.78%\n",
      "\t Feature 29 (dwtpc3): val acc => 69.29%\n"
     ]
    }
   ],
   "execution_count": 4
  },
  {
   "metadata": {},
   "cell_type": "code",
   "outputs": [],
   "execution_count": null,
   "source": "",
   "id": "a0e9c028717a98e1"
  }
 ],
 "metadata": {
  "kernelspec": {
   "display_name": "Python 3",
   "language": "python",
   "name": "python3"
  },
  "language_info": {
   "codemirror_mode": {
    "name": "ipython",
    "version": 2
   },
   "file_extension": ".py",
   "mimetype": "text/x-python",
   "name": "python",
   "nbconvert_exporter": "python",
   "pygments_lexer": "ipython2",
   "version": "2.7.6"
  }
 },
 "nbformat": 4,
 "nbformat_minor": 5
}
